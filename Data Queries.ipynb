{
 "cells": [
  {
   "cell_type": "markdown",
   "metadata": {},
   "source": [
    "# Country Club Analysis with SQL "
   ]
  },
  {
   "cell_type": "markdown",
   "metadata": {},
   "source": [
    "Our new country club has been open for 3 months! It's time to analyze the data from our first quarter and evaulate the state of the business. "
   ]
  },
  {
   "cell_type": "code",
   "execution_count": 1,
   "metadata": {},
   "outputs": [],
   "source": [
    "# Import packages\n",
    "\n",
    "import pandas as pd\n",
    "import sqlite3"
   ]
  },
  {
   "cell_type": "code",
   "execution_count": 339,
   "metadata": {},
   "outputs": [],
   "source": [
    "# Connect to database\n",
    "\n",
    "conn = sqlite3.connect(\"country_club_database.db\")\n",
    "cur = conn.cursor() "
   ]
  },
  {
   "cell_type": "code",
   "execution_count": 340,
   "metadata": {},
   "outputs": [
    {
     "name": "stdout",
     "output_type": "stream",
     "text": [
      "The following tables are in this database:\n",
      "Bookings\n",
      "Facilities\n",
      "Members\n"
     ]
    }
   ],
   "source": [
    "# View all tables in database\n",
    "\n",
    "tables = cur.execute(\"SELECT name FROM sqlite_master WHERE type = 'table'\").fetchall()\n",
    "\n",
    "print(f'The following tables are in this database:')\n",
    "for i in tables:\n",
    "    print(i[0])\n"
   ]
  },
  {
   "cell_type": "markdown",
   "metadata": {},
   "source": [
    "Let's examine our  3 tables:"
   ]
  },
  {
   "cell_type": "code",
   "execution_count": 377,
   "metadata": {},
   "outputs": [
    {
     "data": {
      "text/html": "<style  type=\"text/css\" >\n</style><table id=\"T_f52a0_\" ><thead>    <tr>        <th class=\"col_heading level0 col0\" >facid</th>        <th class=\"col_heading level0 col1\" >name</th>        <th class=\"col_heading level0 col2\" >membercost</th>        <th class=\"col_heading level0 col3\" >guestcost</th>        <th class=\"col_heading level0 col4\" >initialoutlay</th>        <th class=\"col_heading level0 col5\" >monthlymaintenance</th>    </tr></thead><tbody>\n                <tr>\n                                <td id=\"T_f52a0_row0_col0\" class=\"data row0 col0\" >0</td>\n                        <td id=\"T_f52a0_row0_col1\" class=\"data row0 col1\" >Tennis Court 1</td>\n                        <td id=\"T_f52a0_row0_col2\" class=\"data row0 col2\" >5.000000</td>\n                        <td id=\"T_f52a0_row0_col3\" class=\"data row0 col3\" >25.000000</td>\n                        <td id=\"T_f52a0_row0_col4\" class=\"data row0 col4\" >10000</td>\n                        <td id=\"T_f52a0_row0_col5\" class=\"data row0 col5\" >200</td>\n            </tr>\n            <tr>\n                                <td id=\"T_f52a0_row1_col0\" class=\"data row1 col0\" >1</td>\n                        <td id=\"T_f52a0_row1_col1\" class=\"data row1 col1\" >Tennis Court 2</td>\n                        <td id=\"T_f52a0_row1_col2\" class=\"data row1 col2\" >5.000000</td>\n                        <td id=\"T_f52a0_row1_col3\" class=\"data row1 col3\" >25.000000</td>\n                        <td id=\"T_f52a0_row1_col4\" class=\"data row1 col4\" >8000</td>\n                        <td id=\"T_f52a0_row1_col5\" class=\"data row1 col5\" >200</td>\n            </tr>\n            <tr>\n                                <td id=\"T_f52a0_row2_col0\" class=\"data row2 col0\" >2</td>\n                        <td id=\"T_f52a0_row2_col1\" class=\"data row2 col1\" >Badminton Court</td>\n                        <td id=\"T_f52a0_row2_col2\" class=\"data row2 col2\" >0.000000</td>\n                        <td id=\"T_f52a0_row2_col3\" class=\"data row2 col3\" >15.500000</td>\n                        <td id=\"T_f52a0_row2_col4\" class=\"data row2 col4\" >4000</td>\n                        <td id=\"T_f52a0_row2_col5\" class=\"data row2 col5\" >50</td>\n            </tr>\n            <tr>\n                                <td id=\"T_f52a0_row3_col0\" class=\"data row3 col0\" >3</td>\n                        <td id=\"T_f52a0_row3_col1\" class=\"data row3 col1\" >Table Tennis</td>\n                        <td id=\"T_f52a0_row3_col2\" class=\"data row3 col2\" >0.000000</td>\n                        <td id=\"T_f52a0_row3_col3\" class=\"data row3 col3\" >5.000000</td>\n                        <td id=\"T_f52a0_row3_col4\" class=\"data row3 col4\" >320</td>\n                        <td id=\"T_f52a0_row3_col5\" class=\"data row3 col5\" >10</td>\n            </tr>\n            <tr>\n                                <td id=\"T_f52a0_row4_col0\" class=\"data row4 col0\" >4</td>\n                        <td id=\"T_f52a0_row4_col1\" class=\"data row4 col1\" >Massage Room 1</td>\n                        <td id=\"T_f52a0_row4_col2\" class=\"data row4 col2\" >9.900000</td>\n                        <td id=\"T_f52a0_row4_col3\" class=\"data row4 col3\" >80.000000</td>\n                        <td id=\"T_f52a0_row4_col4\" class=\"data row4 col4\" >4000</td>\n                        <td id=\"T_f52a0_row4_col5\" class=\"data row4 col5\" >3000</td>\n            </tr>\n            <tr>\n                                <td id=\"T_f52a0_row5_col0\" class=\"data row5 col0\" >5</td>\n                        <td id=\"T_f52a0_row5_col1\" class=\"data row5 col1\" >Massage Room 2</td>\n                        <td id=\"T_f52a0_row5_col2\" class=\"data row5 col2\" >9.900000</td>\n                        <td id=\"T_f52a0_row5_col3\" class=\"data row5 col3\" >80.000000</td>\n                        <td id=\"T_f52a0_row5_col4\" class=\"data row5 col4\" >4000</td>\n                        <td id=\"T_f52a0_row5_col5\" class=\"data row5 col5\" >3000</td>\n            </tr>\n            <tr>\n                                <td id=\"T_f52a0_row6_col0\" class=\"data row6 col0\" >6</td>\n                        <td id=\"T_f52a0_row6_col1\" class=\"data row6 col1\" >Squash Court</td>\n                        <td id=\"T_f52a0_row6_col2\" class=\"data row6 col2\" >3.500000</td>\n                        <td id=\"T_f52a0_row6_col3\" class=\"data row6 col3\" >17.500000</td>\n                        <td id=\"T_f52a0_row6_col4\" class=\"data row6 col4\" >5000</td>\n                        <td id=\"T_f52a0_row6_col5\" class=\"data row6 col5\" >80</td>\n            </tr>\n            <tr>\n                                <td id=\"T_f52a0_row7_col0\" class=\"data row7 col0\" >7</td>\n                        <td id=\"T_f52a0_row7_col1\" class=\"data row7 col1\" >Snooker Table</td>\n                        <td id=\"T_f52a0_row7_col2\" class=\"data row7 col2\" >0.000000</td>\n                        <td id=\"T_f52a0_row7_col3\" class=\"data row7 col3\" >5.000000</td>\n                        <td id=\"T_f52a0_row7_col4\" class=\"data row7 col4\" >450</td>\n                        <td id=\"T_f52a0_row7_col5\" class=\"data row7 col5\" >15</td>\n            </tr>\n            <tr>\n                                <td id=\"T_f52a0_row8_col0\" class=\"data row8 col0\" >8</td>\n                        <td id=\"T_f52a0_row8_col1\" class=\"data row8 col1\" >Pool Table</td>\n                        <td id=\"T_f52a0_row8_col2\" class=\"data row8 col2\" >0.000000</td>\n                        <td id=\"T_f52a0_row8_col3\" class=\"data row8 col3\" >5.000000</td>\n                        <td id=\"T_f52a0_row8_col4\" class=\"data row8 col4\" >400</td>\n                        <td id=\"T_f52a0_row8_col5\" class=\"data row8 col5\" >15</td>\n            </tr>\n    </tbody></table>",
      "text/plain": "<pandas.io.formats.style.Styler at 0x11af131c0>"
     },
     "execution_count": 377,
     "metadata": {},
     "output_type": "execute_result"
    }
   ],
   "source": [
    "# The facilities table\n",
    "\n",
    "query = ''' SELECT *\n",
    "            FROM facilities;\n",
    "        '''\n",
    "\n",
    "df = pd.read_sql_query(query, conn)\n",
    "df.style.hide_index()"
   ]
  },
  {
   "cell_type": "markdown",
   "metadata": {},
   "source": [
    "There are a total of 9 facilities at the country club."
   ]
  },
  {
   "cell_type": "code",
   "execution_count": 400,
   "metadata": {},
   "outputs": [
    {
     "data": {
      "text/html": "<style  type=\"text/css\" >\n</style><table id=\"T_0569d_\" ><thead>    <tr>        <th class=\"col_heading level0 col0\" >bookid</th>        <th class=\"col_heading level0 col1\" >facid</th>        <th class=\"col_heading level0 col2\" >memid</th>        <th class=\"col_heading level0 col3\" >starttime</th>        <th class=\"col_heading level0 col4\" >slots</th>    </tr></thead><tbody>\n                <tr>\n                                <td id=\"T_0569d_row0_col0\" class=\"data row0 col0\" >0</td>\n                        <td id=\"T_0569d_row0_col1\" class=\"data row0 col1\" >3</td>\n                        <td id=\"T_0569d_row0_col2\" class=\"data row0 col2\" >1</td>\n                        <td id=\"T_0569d_row0_col3\" class=\"data row0 col3\" >2012-07-03 11:00:00</td>\n                        <td id=\"T_0569d_row0_col4\" class=\"data row0 col4\" >2</td>\n            </tr>\n            <tr>\n                                <td id=\"T_0569d_row1_col0\" class=\"data row1 col0\" >1</td>\n                        <td id=\"T_0569d_row1_col1\" class=\"data row1 col1\" >4</td>\n                        <td id=\"T_0569d_row1_col2\" class=\"data row1 col2\" >1</td>\n                        <td id=\"T_0569d_row1_col3\" class=\"data row1 col3\" >2012-07-03 08:00:00</td>\n                        <td id=\"T_0569d_row1_col4\" class=\"data row1 col4\" >2</td>\n            </tr>\n            <tr>\n                                <td id=\"T_0569d_row2_col0\" class=\"data row2 col0\" >2</td>\n                        <td id=\"T_0569d_row2_col1\" class=\"data row2 col1\" >6</td>\n                        <td id=\"T_0569d_row2_col2\" class=\"data row2 col2\" >0</td>\n                        <td id=\"T_0569d_row2_col3\" class=\"data row2 col3\" >2012-07-03 18:00:00</td>\n                        <td id=\"T_0569d_row2_col4\" class=\"data row2 col4\" >2</td>\n            </tr>\n            <tr>\n                                <td id=\"T_0569d_row3_col0\" class=\"data row3 col0\" >3</td>\n                        <td id=\"T_0569d_row3_col1\" class=\"data row3 col1\" >7</td>\n                        <td id=\"T_0569d_row3_col2\" class=\"data row3 col2\" >1</td>\n                        <td id=\"T_0569d_row3_col3\" class=\"data row3 col3\" >2012-07-03 19:00:00</td>\n                        <td id=\"T_0569d_row3_col4\" class=\"data row3 col4\" >2</td>\n            </tr>\n            <tr>\n                                <td id=\"T_0569d_row4_col0\" class=\"data row4 col0\" >4</td>\n                        <td id=\"T_0569d_row4_col1\" class=\"data row4 col1\" >8</td>\n                        <td id=\"T_0569d_row4_col2\" class=\"data row4 col2\" >1</td>\n                        <td id=\"T_0569d_row4_col3\" class=\"data row4 col3\" >2012-07-03 10:00:00</td>\n                        <td id=\"T_0569d_row4_col4\" class=\"data row4 col4\" >1</td>\n            </tr>\n            <tr>\n                                <td id=\"T_0569d_row5_col0\" class=\"data row5 col0\" >5</td>\n                        <td id=\"T_0569d_row5_col1\" class=\"data row5 col1\" >8</td>\n                        <td id=\"T_0569d_row5_col2\" class=\"data row5 col2\" >1</td>\n                        <td id=\"T_0569d_row5_col3\" class=\"data row5 col3\" >2012-07-03 15:00:00</td>\n                        <td id=\"T_0569d_row5_col4\" class=\"data row5 col4\" >1</td>\n            </tr>\n            <tr>\n                                <td id=\"T_0569d_row6_col0\" class=\"data row6 col0\" >6</td>\n                        <td id=\"T_0569d_row6_col1\" class=\"data row6 col1\" >0</td>\n                        <td id=\"T_0569d_row6_col2\" class=\"data row6 col2\" >2</td>\n                        <td id=\"T_0569d_row6_col3\" class=\"data row6 col3\" >2012-07-04 09:00:00</td>\n                        <td id=\"T_0569d_row6_col4\" class=\"data row6 col4\" >3</td>\n            </tr>\n            <tr>\n                                <td id=\"T_0569d_row7_col0\" class=\"data row7 col0\" >7</td>\n                        <td id=\"T_0569d_row7_col1\" class=\"data row7 col1\" >0</td>\n                        <td id=\"T_0569d_row7_col2\" class=\"data row7 col2\" >2</td>\n                        <td id=\"T_0569d_row7_col3\" class=\"data row7 col3\" >2012-07-04 15:00:00</td>\n                        <td id=\"T_0569d_row7_col4\" class=\"data row7 col4\" >3</td>\n            </tr>\n            <tr>\n                                <td id=\"T_0569d_row8_col0\" class=\"data row8 col0\" >8</td>\n                        <td id=\"T_0569d_row8_col1\" class=\"data row8 col1\" >4</td>\n                        <td id=\"T_0569d_row8_col2\" class=\"data row8 col2\" >3</td>\n                        <td id=\"T_0569d_row8_col3\" class=\"data row8 col3\" >2012-07-04 13:30:00</td>\n                        <td id=\"T_0569d_row8_col4\" class=\"data row8 col4\" >2</td>\n            </tr>\n            <tr>\n                                <td id=\"T_0569d_row9_col0\" class=\"data row9 col0\" >9</td>\n                        <td id=\"T_0569d_row9_col1\" class=\"data row9 col1\" >4</td>\n                        <td id=\"T_0569d_row9_col2\" class=\"data row9 col2\" >0</td>\n                        <td id=\"T_0569d_row9_col3\" class=\"data row9 col3\" >2012-07-04 15:00:00</td>\n                        <td id=\"T_0569d_row9_col4\" class=\"data row9 col4\" >2</td>\n            </tr>\n            <tr>\n                                <td id=\"T_0569d_row10_col0\" class=\"data row10 col0\" >10</td>\n                        <td id=\"T_0569d_row10_col1\" class=\"data row10 col1\" >4</td>\n                        <td id=\"T_0569d_row10_col2\" class=\"data row10 col2\" >0</td>\n                        <td id=\"T_0569d_row10_col3\" class=\"data row10 col3\" >2012-07-04 17:30:00</td>\n                        <td id=\"T_0569d_row10_col4\" class=\"data row10 col4\" >2</td>\n            </tr>\n            <tr>\n                                <td id=\"T_0569d_row11_col0\" class=\"data row11 col0\" >11</td>\n                        <td id=\"T_0569d_row11_col1\" class=\"data row11 col1\" >6</td>\n                        <td id=\"T_0569d_row11_col2\" class=\"data row11 col2\" >0</td>\n                        <td id=\"T_0569d_row11_col3\" class=\"data row11 col3\" >2012-07-04 12:30:00</td>\n                        <td id=\"T_0569d_row11_col4\" class=\"data row11 col4\" >2</td>\n            </tr>\n            <tr>\n                                <td id=\"T_0569d_row12_col0\" class=\"data row12 col0\" >12</td>\n                        <td id=\"T_0569d_row12_col1\" class=\"data row12 col1\" >6</td>\n                        <td id=\"T_0569d_row12_col2\" class=\"data row12 col2\" >0</td>\n                        <td id=\"T_0569d_row12_col3\" class=\"data row12 col3\" >2012-07-04 14:00:00</td>\n                        <td id=\"T_0569d_row12_col4\" class=\"data row12 col4\" >2</td>\n            </tr>\n            <tr>\n                                <td id=\"T_0569d_row13_col0\" class=\"data row13 col0\" >13</td>\n                        <td id=\"T_0569d_row13_col1\" class=\"data row13 col1\" >6</td>\n                        <td id=\"T_0569d_row13_col2\" class=\"data row13 col2\" >1</td>\n                        <td id=\"T_0569d_row13_col3\" class=\"data row13 col3\" >2012-07-04 15:30:00</td>\n                        <td id=\"T_0569d_row13_col4\" class=\"data row13 col4\" >2</td>\n            </tr>\n            <tr>\n                                <td id=\"T_0569d_row14_col0\" class=\"data row14 col0\" >14</td>\n                        <td id=\"T_0569d_row14_col1\" class=\"data row14 col1\" >7</td>\n                        <td id=\"T_0569d_row14_col2\" class=\"data row14 col2\" >2</td>\n                        <td id=\"T_0569d_row14_col3\" class=\"data row14 col3\" >2012-07-04 14:00:00</td>\n                        <td id=\"T_0569d_row14_col4\" class=\"data row14 col4\" >2</td>\n            </tr>\n            <tr>\n                                <td id=\"T_0569d_row15_col0\" class=\"data row15 col0\" >15</td>\n                        <td id=\"T_0569d_row15_col1\" class=\"data row15 col1\" >8</td>\n                        <td id=\"T_0569d_row15_col2\" class=\"data row15 col2\" >2</td>\n                        <td id=\"T_0569d_row15_col3\" class=\"data row15 col3\" >2012-07-04 12:00:00</td>\n                        <td id=\"T_0569d_row15_col4\" class=\"data row15 col4\" >1</td>\n            </tr>\n            <tr>\n                                <td id=\"T_0569d_row16_col0\" class=\"data row16 col0\" >16</td>\n                        <td id=\"T_0569d_row16_col1\" class=\"data row16 col1\" >8</td>\n                        <td id=\"T_0569d_row16_col2\" class=\"data row16 col2\" >3</td>\n                        <td id=\"T_0569d_row16_col3\" class=\"data row16 col3\" >2012-07-04 18:00:00</td>\n                        <td id=\"T_0569d_row16_col4\" class=\"data row16 col4\" >1</td>\n            </tr>\n            <tr>\n                                <td id=\"T_0569d_row17_col0\" class=\"data row17 col0\" >17</td>\n                        <td id=\"T_0569d_row17_col1\" class=\"data row17 col1\" >1</td>\n                        <td id=\"T_0569d_row17_col2\" class=\"data row17 col2\" >0</td>\n                        <td id=\"T_0569d_row17_col3\" class=\"data row17 col3\" >2012-07-05 17:30:00</td>\n                        <td id=\"T_0569d_row17_col4\" class=\"data row17 col4\" >3</td>\n            </tr>\n            <tr>\n                                <td id=\"T_0569d_row18_col0\" class=\"data row18 col0\" >18</td>\n                        <td id=\"T_0569d_row18_col1\" class=\"data row18 col1\" >2</td>\n                        <td id=\"T_0569d_row18_col2\" class=\"data row18 col2\" >1</td>\n                        <td id=\"T_0569d_row18_col3\" class=\"data row18 col3\" >2012-07-05 09:30:00</td>\n                        <td id=\"T_0569d_row18_col4\" class=\"data row18 col4\" >3</td>\n            </tr>\n            <tr>\n                                <td id=\"T_0569d_row19_col0\" class=\"data row19 col0\" >19</td>\n                        <td id=\"T_0569d_row19_col1\" class=\"data row19 col1\" >3</td>\n                        <td id=\"T_0569d_row19_col2\" class=\"data row19 col2\" >3</td>\n                        <td id=\"T_0569d_row19_col3\" class=\"data row19 col3\" >2012-07-05 09:00:00</td>\n                        <td id=\"T_0569d_row19_col4\" class=\"data row19 col4\" >2</td>\n            </tr>\n    </tbody></table>",
      "text/plain": "<pandas.io.formats.style.Styler at 0x119206eb0>"
     },
     "execution_count": 400,
     "metadata": {},
     "output_type": "execute_result"
    }
   ],
   "source": [
    "# The bookings table \n",
    "\n",
    "query = '''SELECT *\n",
    "           FROM bookings;\n",
    "        \n",
    "        '''\n",
    "\n",
    "df = pd.read_sql_query(query, conn)\n",
    "df = df.head(20)  # returns summary of dataset \n",
    "df.style.hide_index()\n",
    "\n"
   ]
  },
  {
   "cell_type": "markdown",
   "metadata": {},
   "source": [
    "Our booking data spans from July 3, 2012 through September 30, 2012."
   ]
  },
  {
   "cell_type": "code",
   "execution_count": 334,
   "metadata": {},
   "outputs": [
    {
     "data": {
      "text/html": "<style  type=\"text/css\" >\n</style><table id=\"T_63bc8_\" ><thead>    <tr>        <th class=\"col_heading level0 col0\" >memid</th>        <th class=\"col_heading level0 col1\" >surname</th>        <th class=\"col_heading level0 col2\" >firstname</th>        <th class=\"col_heading level0 col3\" >address</th>        <th class=\"col_heading level0 col4\" >zipcode</th>        <th class=\"col_heading level0 col5\" >telephone</th>        <th class=\"col_heading level0 col6\" >recommendedby</th>        <th class=\"col_heading level0 col7\" >joindate</th>    </tr></thead><tbody>\n                <tr>\n                                <td id=\"T_63bc8_row0_col0\" class=\"data row0 col0\" >0</td>\n                        <td id=\"T_63bc8_row0_col1\" class=\"data row0 col1\" >GUEST</td>\n                        <td id=\"T_63bc8_row0_col2\" class=\"data row0 col2\" >GUEST</td>\n                        <td id=\"T_63bc8_row0_col3\" class=\"data row0 col3\" >GUEST</td>\n                        <td id=\"T_63bc8_row0_col4\" class=\"data row0 col4\" >0</td>\n                        <td id=\"T_63bc8_row0_col5\" class=\"data row0 col5\" >(000) 000-0000</td>\n                        <td id=\"T_63bc8_row0_col6\" class=\"data row0 col6\" ></td>\n                        <td id=\"T_63bc8_row0_col7\" class=\"data row0 col7\" >2012-07-01 00:00:00</td>\n            </tr>\n            <tr>\n                                <td id=\"T_63bc8_row1_col0\" class=\"data row1 col0\" >1</td>\n                        <td id=\"T_63bc8_row1_col1\" class=\"data row1 col1\" >Smith</td>\n                        <td id=\"T_63bc8_row1_col2\" class=\"data row1 col2\" >Darren</td>\n                        <td id=\"T_63bc8_row1_col3\" class=\"data row1 col3\" >8 Bloomsbury Close, Boston</td>\n                        <td id=\"T_63bc8_row1_col4\" class=\"data row1 col4\" >4321</td>\n                        <td id=\"T_63bc8_row1_col5\" class=\"data row1 col5\" >555-555-5555</td>\n                        <td id=\"T_63bc8_row1_col6\" class=\"data row1 col6\" ></td>\n                        <td id=\"T_63bc8_row1_col7\" class=\"data row1 col7\" >2012-07-02 12:02:05</td>\n            </tr>\n            <tr>\n                                <td id=\"T_63bc8_row2_col0\" class=\"data row2 col0\" >2</td>\n                        <td id=\"T_63bc8_row2_col1\" class=\"data row2 col1\" >Smith</td>\n                        <td id=\"T_63bc8_row2_col2\" class=\"data row2 col2\" >Tracy</td>\n                        <td id=\"T_63bc8_row2_col3\" class=\"data row2 col3\" >8 Bloomsbury Close, New York</td>\n                        <td id=\"T_63bc8_row2_col4\" class=\"data row2 col4\" >4321</td>\n                        <td id=\"T_63bc8_row2_col5\" class=\"data row2 col5\" >555-555-5555</td>\n                        <td id=\"T_63bc8_row2_col6\" class=\"data row2 col6\" ></td>\n                        <td id=\"T_63bc8_row2_col7\" class=\"data row2 col7\" >2012-07-02 12:08:23</td>\n            </tr>\n            <tr>\n                                <td id=\"T_63bc8_row3_col0\" class=\"data row3 col0\" >3</td>\n                        <td id=\"T_63bc8_row3_col1\" class=\"data row3 col1\" >Rownam</td>\n                        <td id=\"T_63bc8_row3_col2\" class=\"data row3 col2\" >Tim</td>\n                        <td id=\"T_63bc8_row3_col3\" class=\"data row3 col3\" >23 Highway Way, Boston</td>\n                        <td id=\"T_63bc8_row3_col4\" class=\"data row3 col4\" >23423</td>\n                        <td id=\"T_63bc8_row3_col5\" class=\"data row3 col5\" >(844) 693-0723</td>\n                        <td id=\"T_63bc8_row3_col6\" class=\"data row3 col6\" ></td>\n                        <td id=\"T_63bc8_row3_col7\" class=\"data row3 col7\" >2012-07-03 09:32:15</td>\n            </tr>\n            <tr>\n                                <td id=\"T_63bc8_row4_col0\" class=\"data row4 col0\" >4</td>\n                        <td id=\"T_63bc8_row4_col1\" class=\"data row4 col1\" >Joplette</td>\n                        <td id=\"T_63bc8_row4_col2\" class=\"data row4 col2\" >Janice</td>\n                        <td id=\"T_63bc8_row4_col3\" class=\"data row4 col3\" >20 Crossing Road, New York</td>\n                        <td id=\"T_63bc8_row4_col4\" class=\"data row4 col4\" >234</td>\n                        <td id=\"T_63bc8_row4_col5\" class=\"data row4 col5\" >(833) 942-4710</td>\n                        <td id=\"T_63bc8_row4_col6\" class=\"data row4 col6\" >1</td>\n                        <td id=\"T_63bc8_row4_col7\" class=\"data row4 col7\" >2012-07-03 10:25:05</td>\n            </tr>\n            <tr>\n                                <td id=\"T_63bc8_row5_col0\" class=\"data row5 col0\" >5</td>\n                        <td id=\"T_63bc8_row5_col1\" class=\"data row5 col1\" >Butters</td>\n                        <td id=\"T_63bc8_row5_col2\" class=\"data row5 col2\" >Gerald</td>\n                        <td id=\"T_63bc8_row5_col3\" class=\"data row5 col3\" >1065 Huntingdon Avenue, Boston</td>\n                        <td id=\"T_63bc8_row5_col4\" class=\"data row5 col4\" >56754</td>\n                        <td id=\"T_63bc8_row5_col5\" class=\"data row5 col5\" >(844) 078-4130</td>\n                        <td id=\"T_63bc8_row5_col6\" class=\"data row5 col6\" >1</td>\n                        <td id=\"T_63bc8_row5_col7\" class=\"data row5 col7\" >2012-07-09 10:44:09</td>\n            </tr>\n            <tr>\n                                <td id=\"T_63bc8_row6_col0\" class=\"data row6 col0\" >6</td>\n                        <td id=\"T_63bc8_row6_col1\" class=\"data row6 col1\" >Tracy</td>\n                        <td id=\"T_63bc8_row6_col2\" class=\"data row6 col2\" >Burton</td>\n                        <td id=\"T_63bc8_row6_col3\" class=\"data row6 col3\" >3 Tunisia Drive, Boston</td>\n                        <td id=\"T_63bc8_row6_col4\" class=\"data row6 col4\" >45678</td>\n                        <td id=\"T_63bc8_row6_col5\" class=\"data row6 col5\" >(822) 354-9973</td>\n                        <td id=\"T_63bc8_row6_col6\" class=\"data row6 col6\" ></td>\n                        <td id=\"T_63bc8_row6_col7\" class=\"data row6 col7\" >2012-07-15 08:52:55</td>\n            </tr>\n            <tr>\n                                <td id=\"T_63bc8_row7_col0\" class=\"data row7 col0\" >7</td>\n                        <td id=\"T_63bc8_row7_col1\" class=\"data row7 col1\" >Dare</td>\n                        <td id=\"T_63bc8_row7_col2\" class=\"data row7 col2\" >Nancy</td>\n                        <td id=\"T_63bc8_row7_col3\" class=\"data row7 col3\" >6 Hunting Lodge Way, Boston</td>\n                        <td id=\"T_63bc8_row7_col4\" class=\"data row7 col4\" >10383</td>\n                        <td id=\"T_63bc8_row7_col5\" class=\"data row7 col5\" >(833) 776-4001</td>\n                        <td id=\"T_63bc8_row7_col6\" class=\"data row7 col6\" >4</td>\n                        <td id=\"T_63bc8_row7_col7\" class=\"data row7 col7\" >2012-07-25 08:59:12</td>\n            </tr>\n            <tr>\n                                <td id=\"T_63bc8_row8_col0\" class=\"data row8 col0\" >8</td>\n                        <td id=\"T_63bc8_row8_col1\" class=\"data row8 col1\" >Boothe</td>\n                        <td id=\"T_63bc8_row8_col2\" class=\"data row8 col2\" >Tim</td>\n                        <td id=\"T_63bc8_row8_col3\" class=\"data row8 col3\" >3 Bloomsbury Close, Reading, 00234</td>\n                        <td id=\"T_63bc8_row8_col4\" class=\"data row8 col4\" >234</td>\n                        <td id=\"T_63bc8_row8_col5\" class=\"data row8 col5\" >(811) 433-2547</td>\n                        <td id=\"T_63bc8_row8_col6\" class=\"data row8 col6\" >3</td>\n                        <td id=\"T_63bc8_row8_col7\" class=\"data row8 col7\" >2012-07-25 16:02:35</td>\n            </tr>\n            <tr>\n                                <td id=\"T_63bc8_row9_col0\" class=\"data row9 col0\" >9</td>\n                        <td id=\"T_63bc8_row9_col1\" class=\"data row9 col1\" >Stibbons</td>\n                        <td id=\"T_63bc8_row9_col2\" class=\"data row9 col2\" >Ponder</td>\n                        <td id=\"T_63bc8_row9_col3\" class=\"data row9 col3\" >5 Dragons Way, Winchester</td>\n                        <td id=\"T_63bc8_row9_col4\" class=\"data row9 col4\" >87630</td>\n                        <td id=\"T_63bc8_row9_col5\" class=\"data row9 col5\" >(833) 160-3900</td>\n                        <td id=\"T_63bc8_row9_col6\" class=\"data row9 col6\" >6</td>\n                        <td id=\"T_63bc8_row9_col7\" class=\"data row9 col7\" >2012-07-25 17:09:05</td>\n            </tr>\n            <tr>\n                                <td id=\"T_63bc8_row10_col0\" class=\"data row10 col0\" >10</td>\n                        <td id=\"T_63bc8_row10_col1\" class=\"data row10 col1\" >Owen</td>\n                        <td id=\"T_63bc8_row10_col2\" class=\"data row10 col2\" >Charles</td>\n                        <td id=\"T_63bc8_row10_col3\" class=\"data row10 col3\" >52 Cheshire Grove, Winchester, 28563</td>\n                        <td id=\"T_63bc8_row10_col4\" class=\"data row10 col4\" >28563</td>\n                        <td id=\"T_63bc8_row10_col5\" class=\"data row10 col5\" >(855) 542-5251</td>\n                        <td id=\"T_63bc8_row10_col6\" class=\"data row10 col6\" >1</td>\n                        <td id=\"T_63bc8_row10_col7\" class=\"data row10 col7\" >2012-08-03 19:42:37</td>\n            </tr>\n            <tr>\n                                <td id=\"T_63bc8_row11_col0\" class=\"data row11 col0\" >11</td>\n                        <td id=\"T_63bc8_row11_col1\" class=\"data row11 col1\" >Jones</td>\n                        <td id=\"T_63bc8_row11_col2\" class=\"data row11 col2\" >David</td>\n                        <td id=\"T_63bc8_row11_col3\" class=\"data row11 col3\" >976 Gnats Close, Reading</td>\n                        <td id=\"T_63bc8_row11_col4\" class=\"data row11 col4\" >33862</td>\n                        <td id=\"T_63bc8_row11_col5\" class=\"data row11 col5\" >(844) 536-8036</td>\n                        <td id=\"T_63bc8_row11_col6\" class=\"data row11 col6\" >4</td>\n                        <td id=\"T_63bc8_row11_col7\" class=\"data row11 col7\" >2012-08-06 16:32:55</td>\n            </tr>\n            <tr>\n                                <td id=\"T_63bc8_row12_col0\" class=\"data row12 col0\" >12</td>\n                        <td id=\"T_63bc8_row12_col1\" class=\"data row12 col1\" >Baker</td>\n                        <td id=\"T_63bc8_row12_col2\" class=\"data row12 col2\" >Anne</td>\n                        <td id=\"T_63bc8_row12_col3\" class=\"data row12 col3\" >55 Powdery Street, Boston</td>\n                        <td id=\"T_63bc8_row12_col4\" class=\"data row12 col4\" >80743</td>\n                        <td id=\"T_63bc8_row12_col5\" class=\"data row12 col5\" >844-076-5141</td>\n                        <td id=\"T_63bc8_row12_col6\" class=\"data row12 col6\" >9</td>\n                        <td id=\"T_63bc8_row12_col7\" class=\"data row12 col7\" >2012-08-10 14:23:22</td>\n            </tr>\n            <tr>\n                                <td id=\"T_63bc8_row13_col0\" class=\"data row13 col0\" >13</td>\n                        <td id=\"T_63bc8_row13_col1\" class=\"data row13 col1\" >Farrell</td>\n                        <td id=\"T_63bc8_row13_col2\" class=\"data row13 col2\" >Jemima</td>\n                        <td id=\"T_63bc8_row13_col3\" class=\"data row13 col3\" >103 Firth Avenue, North Reading</td>\n                        <td id=\"T_63bc8_row13_col4\" class=\"data row13 col4\" >57392</td>\n                        <td id=\"T_63bc8_row13_col5\" class=\"data row13 col5\" >(855) 016-0163</td>\n                        <td id=\"T_63bc8_row13_col6\" class=\"data row13 col6\" ></td>\n                        <td id=\"T_63bc8_row13_col7\" class=\"data row13 col7\" >2012-08-10 14:28:01</td>\n            </tr>\n            <tr>\n                                <td id=\"T_63bc8_row14_col0\" class=\"data row14 col0\" >14</td>\n                        <td id=\"T_63bc8_row14_col1\" class=\"data row14 col1\" >Smith</td>\n                        <td id=\"T_63bc8_row14_col2\" class=\"data row14 col2\" >Jack</td>\n                        <td id=\"T_63bc8_row14_col3\" class=\"data row14 col3\" >252 Binkington Way, Boston</td>\n                        <td id=\"T_63bc8_row14_col4\" class=\"data row14 col4\" >69302</td>\n                        <td id=\"T_63bc8_row14_col5\" class=\"data row14 col5\" >(822) 163-3254</td>\n                        <td id=\"T_63bc8_row14_col6\" class=\"data row14 col6\" >1</td>\n                        <td id=\"T_63bc8_row14_col7\" class=\"data row14 col7\" >2012-08-10 16:22:05</td>\n            </tr>\n            <tr>\n                                <td id=\"T_63bc8_row15_col0\" class=\"data row15 col0\" >15</td>\n                        <td id=\"T_63bc8_row15_col1\" class=\"data row15 col1\" >Bader</td>\n                        <td id=\"T_63bc8_row15_col2\" class=\"data row15 col2\" >Florence</td>\n                        <td id=\"T_63bc8_row15_col3\" class=\"data row15 col3\" >264 Ursula Drive, Westford</td>\n                        <td id=\"T_63bc8_row15_col4\" class=\"data row15 col4\" >84923</td>\n                        <td id=\"T_63bc8_row15_col5\" class=\"data row15 col5\" >(833) 499-3527</td>\n                        <td id=\"T_63bc8_row15_col6\" class=\"data row15 col6\" >9</td>\n                        <td id=\"T_63bc8_row15_col7\" class=\"data row15 col7\" >2012-08-10 17:52:03</td>\n            </tr>\n            <tr>\n                                <td id=\"T_63bc8_row16_col0\" class=\"data row16 col0\" >16</td>\n                        <td id=\"T_63bc8_row16_col1\" class=\"data row16 col1\" >Baker</td>\n                        <td id=\"T_63bc8_row16_col2\" class=\"data row16 col2\" >Timothy</td>\n                        <td id=\"T_63bc8_row16_col3\" class=\"data row16 col3\" >329 James Street, Reading</td>\n                        <td id=\"T_63bc8_row16_col4\" class=\"data row16 col4\" >58393</td>\n                        <td id=\"T_63bc8_row16_col5\" class=\"data row16 col5\" >833-941-0824</td>\n                        <td id=\"T_63bc8_row16_col6\" class=\"data row16 col6\" >13</td>\n                        <td id=\"T_63bc8_row16_col7\" class=\"data row16 col7\" >2012-08-15 10:34:25</td>\n            </tr>\n            <tr>\n                                <td id=\"T_63bc8_row17_col0\" class=\"data row17 col0\" >17</td>\n                        <td id=\"T_63bc8_row17_col1\" class=\"data row17 col1\" >Pinker</td>\n                        <td id=\"T_63bc8_row17_col2\" class=\"data row17 col2\" >David</td>\n                        <td id=\"T_63bc8_row17_col3\" class=\"data row17 col3\" >5 Impreza Road, Boston</td>\n                        <td id=\"T_63bc8_row17_col4\" class=\"data row17 col4\" >65332</td>\n                        <td id=\"T_63bc8_row17_col5\" class=\"data row17 col5\" >811 409-6734</td>\n                        <td id=\"T_63bc8_row17_col6\" class=\"data row17 col6\" >13</td>\n                        <td id=\"T_63bc8_row17_col7\" class=\"data row17 col7\" >2012-08-16 11:32:47</td>\n            </tr>\n            <tr>\n                                <td id=\"T_63bc8_row18_col0\" class=\"data row18 col0\" >20</td>\n                        <td id=\"T_63bc8_row18_col1\" class=\"data row18 col1\" >Genting</td>\n                        <td id=\"T_63bc8_row18_col2\" class=\"data row18 col2\" >Matthew</td>\n                        <td id=\"T_63bc8_row18_col3\" class=\"data row18 col3\" >4 Nunnington Place, Wingfield, Boston</td>\n                        <td id=\"T_63bc8_row18_col4\" class=\"data row18 col4\" >52365</td>\n                        <td id=\"T_63bc8_row18_col5\" class=\"data row18 col5\" >(811) 972-1377</td>\n                        <td id=\"T_63bc8_row18_col6\" class=\"data row18 col6\" >5</td>\n                        <td id=\"T_63bc8_row18_col7\" class=\"data row18 col7\" >2012-08-19 14:55:55</td>\n            </tr>\n            <tr>\n                                <td id=\"T_63bc8_row19_col0\" class=\"data row19 col0\" >21</td>\n                        <td id=\"T_63bc8_row19_col1\" class=\"data row19 col1\" >Mackenzie</td>\n                        <td id=\"T_63bc8_row19_col2\" class=\"data row19 col2\" >Anna</td>\n                        <td id=\"T_63bc8_row19_col3\" class=\"data row19 col3\" >64 Perkington Lane, Reading</td>\n                        <td id=\"T_63bc8_row19_col4\" class=\"data row19 col4\" >64577</td>\n                        <td id=\"T_63bc8_row19_col5\" class=\"data row19 col5\" >(822) 661-2898</td>\n                        <td id=\"T_63bc8_row19_col6\" class=\"data row19 col6\" >1</td>\n                        <td id=\"T_63bc8_row19_col7\" class=\"data row19 col7\" >2012-08-26 09:32:05</td>\n            </tr>\n            <tr>\n                                <td id=\"T_63bc8_row20_col0\" class=\"data row20 col0\" >22</td>\n                        <td id=\"T_63bc8_row20_col1\" class=\"data row20 col1\" >Coplin</td>\n                        <td id=\"T_63bc8_row20_col2\" class=\"data row20 col2\" >Joan</td>\n                        <td id=\"T_63bc8_row20_col3\" class=\"data row20 col3\" >85 Bard Street, Bloomington, Boston</td>\n                        <td id=\"T_63bc8_row20_col4\" class=\"data row20 col4\" >43533</td>\n                        <td id=\"T_63bc8_row20_col5\" class=\"data row20 col5\" >(822) 499-2232</td>\n                        <td id=\"T_63bc8_row20_col6\" class=\"data row20 col6\" >16</td>\n                        <td id=\"T_63bc8_row20_col7\" class=\"data row20 col7\" >2012-08-29 08:32:41</td>\n            </tr>\n            <tr>\n                                <td id=\"T_63bc8_row21_col0\" class=\"data row21 col0\" >24</td>\n                        <td id=\"T_63bc8_row21_col1\" class=\"data row21 col1\" >Sarwin</td>\n                        <td id=\"T_63bc8_row21_col2\" class=\"data row21 col2\" >Ramnaresh</td>\n                        <td id=\"T_63bc8_row21_col3\" class=\"data row21 col3\" >12 Bullington Lane, Boston</td>\n                        <td id=\"T_63bc8_row21_col4\" class=\"data row21 col4\" >65464</td>\n                        <td id=\"T_63bc8_row21_col5\" class=\"data row21 col5\" >(822) 413-1470</td>\n                        <td id=\"T_63bc8_row21_col6\" class=\"data row21 col6\" >15</td>\n                        <td id=\"T_63bc8_row21_col7\" class=\"data row21 col7\" >2012-09-01 08:44:42</td>\n            </tr>\n            <tr>\n                                <td id=\"T_63bc8_row22_col0\" class=\"data row22 col0\" >26</td>\n                        <td id=\"T_63bc8_row22_col1\" class=\"data row22 col1\" >Jones</td>\n                        <td id=\"T_63bc8_row22_col2\" class=\"data row22 col2\" >Douglas</td>\n                        <td id=\"T_63bc8_row22_col3\" class=\"data row22 col3\" >976 Gnats Close, Reading</td>\n                        <td id=\"T_63bc8_row22_col4\" class=\"data row22 col4\" >11986</td>\n                        <td id=\"T_63bc8_row22_col5\" class=\"data row22 col5\" >844 536-8036</td>\n                        <td id=\"T_63bc8_row22_col6\" class=\"data row22 col6\" >11</td>\n                        <td id=\"T_63bc8_row22_col7\" class=\"data row22 col7\" >2012-09-02 18:43:05</td>\n            </tr>\n            <tr>\n                                <td id=\"T_63bc8_row23_col0\" class=\"data row23 col0\" >27</td>\n                        <td id=\"T_63bc8_row23_col1\" class=\"data row23 col1\" >Rumney</td>\n                        <td id=\"T_63bc8_row23_col2\" class=\"data row23 col2\" >Henrietta</td>\n                        <td id=\"T_63bc8_row23_col3\" class=\"data row23 col3\" >3 Burkington Plaza, Boston</td>\n                        <td id=\"T_63bc8_row23_col4\" class=\"data row23 col4\" >78533</td>\n                        <td id=\"T_63bc8_row23_col5\" class=\"data row23 col5\" >(822) 989-8876</td>\n                        <td id=\"T_63bc8_row23_col6\" class=\"data row23 col6\" >20</td>\n                        <td id=\"T_63bc8_row23_col7\" class=\"data row23 col7\" >2012-09-05 08:42:35</td>\n            </tr>\n            <tr>\n                                <td id=\"T_63bc8_row24_col0\" class=\"data row24 col0\" >28</td>\n                        <td id=\"T_63bc8_row24_col1\" class=\"data row24 col1\" >Farrell</td>\n                        <td id=\"T_63bc8_row24_col2\" class=\"data row24 col2\" >David</td>\n                        <td id=\"T_63bc8_row24_col3\" class=\"data row24 col3\" >437 Granite Farm Road, Westford</td>\n                        <td id=\"T_63bc8_row24_col4\" class=\"data row24 col4\" >43532</td>\n                        <td id=\"T_63bc8_row24_col5\" class=\"data row24 col5\" >(855) 755-9876</td>\n                        <td id=\"T_63bc8_row24_col6\" class=\"data row24 col6\" ></td>\n                        <td id=\"T_63bc8_row24_col7\" class=\"data row24 col7\" >2012-09-15 08:22:05</td>\n            </tr>\n            <tr>\n                                <td id=\"T_63bc8_row25_col0\" class=\"data row25 col0\" >29</td>\n                        <td id=\"T_63bc8_row25_col1\" class=\"data row25 col1\" >Worthington-Smyth</td>\n                        <td id=\"T_63bc8_row25_col2\" class=\"data row25 col2\" >Henry</td>\n                        <td id=\"T_63bc8_row25_col3\" class=\"data row25 col3\" >55 Jagbi Way, North Reading</td>\n                        <td id=\"T_63bc8_row25_col4\" class=\"data row25 col4\" >97676</td>\n                        <td id=\"T_63bc8_row25_col5\" class=\"data row25 col5\" >(855) 894-3758</td>\n                        <td id=\"T_63bc8_row25_col6\" class=\"data row25 col6\" >2</td>\n                        <td id=\"T_63bc8_row25_col7\" class=\"data row25 col7\" >2012-09-17 12:27:15</td>\n            </tr>\n            <tr>\n                                <td id=\"T_63bc8_row26_col0\" class=\"data row26 col0\" >30</td>\n                        <td id=\"T_63bc8_row26_col1\" class=\"data row26 col1\" >Purview</td>\n                        <td id=\"T_63bc8_row26_col2\" class=\"data row26 col2\" >Millicent</td>\n                        <td id=\"T_63bc8_row26_col3\" class=\"data row26 col3\" >641 Drudgery Close, Burnington, Boston</td>\n                        <td id=\"T_63bc8_row26_col4\" class=\"data row26 col4\" >34232</td>\n                        <td id=\"T_63bc8_row26_col5\" class=\"data row26 col5\" >(855) 941-9786</td>\n                        <td id=\"T_63bc8_row26_col6\" class=\"data row26 col6\" >2</td>\n                        <td id=\"T_63bc8_row26_col7\" class=\"data row26 col7\" >2012-09-18 19:04:01</td>\n            </tr>\n            <tr>\n                                <td id=\"T_63bc8_row27_col0\" class=\"data row27 col0\" >33</td>\n                        <td id=\"T_63bc8_row27_col1\" class=\"data row27 col1\" >Tupperware</td>\n                        <td id=\"T_63bc8_row27_col2\" class=\"data row27 col2\" >Hyacinth</td>\n                        <td id=\"T_63bc8_row27_col3\" class=\"data row27 col3\" >33 Cheerful Plaza, Drake Road, Westford</td>\n                        <td id=\"T_63bc8_row27_col4\" class=\"data row27 col4\" >68666</td>\n                        <td id=\"T_63bc8_row27_col5\" class=\"data row27 col5\" >(822) 665-5327</td>\n                        <td id=\"T_63bc8_row27_col6\" class=\"data row27 col6\" ></td>\n                        <td id=\"T_63bc8_row27_col7\" class=\"data row27 col7\" >2012-09-18 19:32:05</td>\n            </tr>\n            <tr>\n                                <td id=\"T_63bc8_row28_col0\" class=\"data row28 col0\" >35</td>\n                        <td id=\"T_63bc8_row28_col1\" class=\"data row28 col1\" >Hunt</td>\n                        <td id=\"T_63bc8_row28_col2\" class=\"data row28 col2\" >John</td>\n                        <td id=\"T_63bc8_row28_col3\" class=\"data row28 col3\" >5 Bullington Lane, Boston</td>\n                        <td id=\"T_63bc8_row28_col4\" class=\"data row28 col4\" >54333</td>\n                        <td id=\"T_63bc8_row28_col5\" class=\"data row28 col5\" >(899) 720-6978</td>\n                        <td id=\"T_63bc8_row28_col6\" class=\"data row28 col6\" >30</td>\n                        <td id=\"T_63bc8_row28_col7\" class=\"data row28 col7\" >2012-09-19 11:32:45</td>\n            </tr>\n            <tr>\n                                <td id=\"T_63bc8_row29_col0\" class=\"data row29 col0\" >36</td>\n                        <td id=\"T_63bc8_row29_col1\" class=\"data row29 col1\" >Crumpet</td>\n                        <td id=\"T_63bc8_row29_col2\" class=\"data row29 col2\" >Erica</td>\n                        <td id=\"T_63bc8_row29_col3\" class=\"data row29 col3\" >Crimson Road, North Reading</td>\n                        <td id=\"T_63bc8_row29_col4\" class=\"data row29 col4\" >75655</td>\n                        <td id=\"T_63bc8_row29_col5\" class=\"data row29 col5\" >(811) 732-4816</td>\n                        <td id=\"T_63bc8_row29_col6\" class=\"data row29 col6\" >2</td>\n                        <td id=\"T_63bc8_row29_col7\" class=\"data row29 col7\" >2012-09-22 08:36:38</td>\n            </tr>\n            <tr>\n                                <td id=\"T_63bc8_row30_col0\" class=\"data row30 col0\" >37</td>\n                        <td id=\"T_63bc8_row30_col1\" class=\"data row30 col1\" >Smith</td>\n                        <td id=\"T_63bc8_row30_col2\" class=\"data row30 col2\" >Darren</td>\n                        <td id=\"T_63bc8_row30_col3\" class=\"data row30 col3\" >3 Funktown, Denzington, Boston</td>\n                        <td id=\"T_63bc8_row30_col4\" class=\"data row30 col4\" >66796</td>\n                        <td id=\"T_63bc8_row30_col5\" class=\"data row30 col5\" >(822) 577-3541</td>\n                        <td id=\"T_63bc8_row30_col6\" class=\"data row30 col6\" ></td>\n                        <td id=\"T_63bc8_row30_col7\" class=\"data row30 col7\" >2012-09-26 18:08:45</td>\n            </tr>\n    </tbody></table>",
      "text/plain": "<pandas.io.formats.style.Styler at 0x11aeb53a0>"
     },
     "execution_count": 334,
     "metadata": {},
     "output_type": "execute_result"
    }
   ],
   "source": [
    "# The members table \n",
    "\n",
    "query = '''SELECT *\n",
    "           FROM members;\n",
    "        '''\n",
    "\n",
    "df = pd.read_sql_query(query, conn)\n",
    "df.style.hide_index()"
   ]
  },
  {
   "cell_type": "code",
   "execution_count": 342,
   "metadata": {},
   "outputs": [
    {
     "data": {
      "text/html": "<style  type=\"text/css\" >\n</style><table id=\"T_02252_\" ><thead>    <tr>        <th class=\"col_heading level0 col0\" >COUNT(DISTINCT memid)</th>    </tr></thead><tbody>\n                <tr>\n                                <td id=\"T_02252_row0_col0\" class=\"data row0 col0\" >30</td>\n            </tr>\n    </tbody></table>",
      "text/plain": "<pandas.io.formats.style.Styler at 0x11ae93eb0>"
     },
     "execution_count": 342,
     "metadata": {},
     "output_type": "execute_result"
    }
   ],
   "source": [
    "# Show member count \n",
    "\n",
    "query = '''SELECT COUNT(DISTINCT memid)\n",
    "           FROM members\n",
    "           WHERE memid != 0;\n",
    "        '''\n",
    "\n",
    "df = pd.read_sql_query(query, conn)\n",
    "df.style.hide_index()"
   ]
  },
  {
   "cell_type": "markdown",
   "metadata": {},
   "source": [
    "We have 30 members and allow for guest visits."
   ]
  },
  {
   "cell_type": "markdown",
   "metadata": {},
   "source": [
    "Now let's write some queries to produce datasets of interest. \n",
    "\n"
   ]
  },
  {
   "cell_type": "code",
   "execution_count": 425,
   "metadata": {},
   "outputs": [
    {
     "data": {
      "text/html": "<style  type=\"text/css\" >\n</style><table id=\"T_aa839_\" ><thead>    <tr>        <th class=\"col_heading level0 col0\" >total_revenue</th>        <th class=\"col_heading level0 col1\" >total_outlay</th>        <th class=\"col_heading level0 col2\" >total_maintenance</th>        <th class=\"col_heading level0 col3\" >total_profit</th>    </tr></thead><tbody>\n                <tr>\n                                <td id=\"T_aa839_row0_col0\" class=\"data row0 col0\" >109040.700000</td>\n                        <td id=\"T_aa839_row0_col1\" class=\"data row0 col1\" >36170</td>\n                        <td id=\"T_aa839_row0_col2\" class=\"data row0 col2\" >19710</td>\n                        <td id=\"T_aa839_row0_col3\" class=\"data row0 col3\" >53160.700000</td>\n            </tr>\n    </tbody></table>",
      "text/plain": "<pandas.io.formats.style.Styler at 0x11d6106d0>"
     },
     "execution_count": 425,
     "metadata": {},
     "output_type": "execute_result"
    }
   ],
   "source": [
    "# Total revenue and overall profitability for the July - September period \n",
    "\n",
    "query = ''' WITH rev_prof AS \n",
    "            (SELECT f.name AS facility,\n",
    "            SUM(CASE WHEN bookings.memid != 0 THEN f.membercost * bookings.slots\n",
    "    \t            ELSE f.guestcost * bookings.slots END) AS revenue_per_fac,\n",
    "            SUM(CASE WHEN bookings.memid != 0 THEN f.membercost * bookings.slots\n",
    "    \t            ELSE f.guestcost * bookings.slots END) - (monthlymaintenance * 3) - (initialoutlay) AS profit\n",
    "            FROM facilities AS f\n",
    "            INNER JOIN bookings ON f.facid = bookings.facid\n",
    "            GROUP BY facility \n",
    "            ORDER BY profit DESC),\n",
    "\n",
    "            expenses AS \n",
    "            (SELECT SUM(initialoutlay) AS total_outlay, SUM(monthlymaintenance * 3) AS total_maintenance\n",
    "            FROM facilities)\n",
    "            \n",
    "            \n",
    "            SELECT SUM(revenue_per_fac) AS total_revenue, \n",
    "                   total_outlay, total_maintenance, \n",
    "                   SUM(profit) AS total_profit\n",
    "            FROM rev_prof,\n",
    "                 expenses;\n",
    "       '''\n",
    "\n",
    "df = pd.read_sql_query(query, conn)\n",
    "df.style.hide_index()"
   ]
  },
  {
   "cell_type": "markdown",
   "metadata": {},
   "source": [
    "Overall, we've made a profit of $53,160! Not bad for the first 3 months."
   ]
  },
  {
   "cell_type": "code",
   "execution_count": 418,
   "metadata": {},
   "outputs": [
    {
     "data": {
      "text/html": "<style  type=\"text/css\" >\n</style><table id=\"T_ed76d_\" ><thead>    <tr>        <th class=\"col_heading level0 col0\" >facility</th>        <th class=\"col_heading level0 col1\" >revenue</th>        <th class=\"col_heading level0 col2\" >initial_investment</th>        <th class=\"col_heading level0 col3\" >maintenance_for_period</th>        <th class=\"col_heading level0 col4\" >profit</th>    </tr></thead><tbody>\n                <tr>\n                                <td id=\"T_ed76d_row0_col0\" class=\"data row0 col0\" >Massage Room 1</td>\n                        <td id=\"T_ed76d_row0_col1\" class=\"data row0 col1\" >50351.600000</td>\n                        <td id=\"T_ed76d_row0_col2\" class=\"data row0 col2\" >4000</td>\n                        <td id=\"T_ed76d_row0_col3\" class=\"data row0 col3\" >9000</td>\n                        <td id=\"T_ed76d_row0_col4\" class=\"data row0 col4\" >37351.600000</td>\n            </tr>\n            <tr>\n                                <td id=\"T_ed76d_row1_col0\" class=\"data row1 col0\" >Squash Court</td>\n                        <td id=\"T_ed76d_row1_col1\" class=\"data row1 col1\" >13468.000000</td>\n                        <td id=\"T_ed76d_row1_col2\" class=\"data row1 col2\" >5000</td>\n                        <td id=\"T_ed76d_row1_col3\" class=\"data row1 col3\" >240</td>\n                        <td id=\"T_ed76d_row1_col4\" class=\"data row1 col4\" >8228.000000</td>\n            </tr>\n            <tr>\n                                <td id=\"T_ed76d_row2_col0\" class=\"data row2 col0\" >Tennis Court 2</td>\n                        <td id=\"T_ed76d_row2_col1\" class=\"data row2 col1\" >14310.000000</td>\n                        <td id=\"T_ed76d_row2_col2\" class=\"data row2 col2\" >8000</td>\n                        <td id=\"T_ed76d_row2_col3\" class=\"data row2 col3\" >600</td>\n                        <td id=\"T_ed76d_row2_col4\" class=\"data row2 col4\" >5710.000000</td>\n            </tr>\n            <tr>\n                                <td id=\"T_ed76d_row3_col0\" class=\"data row3 col0\" >Tennis Court 1</td>\n                        <td id=\"T_ed76d_row3_col1\" class=\"data row3 col1\" >13860.000000</td>\n                        <td id=\"T_ed76d_row3_col2\" class=\"data row3 col2\" >10000</td>\n                        <td id=\"T_ed76d_row3_col3\" class=\"data row3 col3\" >600</td>\n                        <td id=\"T_ed76d_row3_col4\" class=\"data row3 col4\" >3260.000000</td>\n            </tr>\n            <tr>\n                                <td id=\"T_ed76d_row4_col0\" class=\"data row4 col0\" >Massage Room 2</td>\n                        <td id=\"T_ed76d_row4_col1\" class=\"data row4 col1\" >14454.600000</td>\n                        <td id=\"T_ed76d_row4_col2\" class=\"data row4 col2\" >4000</td>\n                        <td id=\"T_ed76d_row4_col3\" class=\"data row4 col3\" >9000</td>\n                        <td id=\"T_ed76d_row4_col4\" class=\"data row4 col4\" >1454.600000</td>\n            </tr>\n            <tr>\n                                <td id=\"T_ed76d_row5_col0\" class=\"data row5 col0\" >Table Tennis</td>\n                        <td id=\"T_ed76d_row5_col1\" class=\"data row5 col1\" >180.000000</td>\n                        <td id=\"T_ed76d_row5_col2\" class=\"data row5 col2\" >320</td>\n                        <td id=\"T_ed76d_row5_col3\" class=\"data row5 col3\" >30</td>\n                        <td id=\"T_ed76d_row5_col4\" class=\"data row5 col4\" >-170.000000</td>\n            </tr>\n            <tr>\n                                <td id=\"T_ed76d_row6_col0\" class=\"data row6 col0\" >Pool Table</td>\n                        <td id=\"T_ed76d_row6_col1\" class=\"data row6 col1\" >270.000000</td>\n                        <td id=\"T_ed76d_row6_col2\" class=\"data row6 col2\" >400</td>\n                        <td id=\"T_ed76d_row6_col3\" class=\"data row6 col3\" >45</td>\n                        <td id=\"T_ed76d_row6_col4\" class=\"data row6 col4\" >-175.000000</td>\n            </tr>\n            <tr>\n                                <td id=\"T_ed76d_row7_col0\" class=\"data row7 col0\" >Snooker Table</td>\n                        <td id=\"T_ed76d_row7_col1\" class=\"data row7 col1\" >240.000000</td>\n                        <td id=\"T_ed76d_row7_col2\" class=\"data row7 col2\" >450</td>\n                        <td id=\"T_ed76d_row7_col3\" class=\"data row7 col3\" >45</td>\n                        <td id=\"T_ed76d_row7_col4\" class=\"data row7 col4\" >-255.000000</td>\n            </tr>\n            <tr>\n                                <td id=\"T_ed76d_row8_col0\" class=\"data row8 col0\" >Badminton Court</td>\n                        <td id=\"T_ed76d_row8_col1\" class=\"data row8 col1\" >1906.500000</td>\n                        <td id=\"T_ed76d_row8_col2\" class=\"data row8 col2\" >4000</td>\n                        <td id=\"T_ed76d_row8_col3\" class=\"data row8 col3\" >150</td>\n                        <td id=\"T_ed76d_row8_col4\" class=\"data row8 col4\" >-2243.500000</td>\n            </tr>\n    </tbody></table>",
      "text/plain": "<pandas.io.formats.style.Styler at 0x11baf9e80>"
     },
     "execution_count": 418,
     "metadata": {},
     "output_type": "execute_result"
    }
   ],
   "source": [
    "# Examine the total revenue and profit for each facility for the period in question (July - Sep)\n",
    "# Revenue minus monthly maintenance(times 3) & initial investment (initial outlay) = profit\n",
    "\n",
    "query = ''' SELECT f.name AS facility,\n",
    "            SUM(CASE WHEN bookings.memid != 0 THEN f.membercost * bookings.slots\n",
    "    \t            ELSE f.guestcost * bookings.slots END) AS revenue,\n",
    "            f.initialoutlay AS initial_investment,   \n",
    "            f.monthlymaintenance * 3 AS maintenance_for_period,     \n",
    "            SUM(CASE WHEN bookings.memid != 0 THEN f.membercost * bookings.slots\n",
    "    \t            ELSE f.guestcost * bookings.slots END) - (monthlymaintenance * 3) - (initialoutlay) AS profit\n",
    "            FROM Facilities AS f\n",
    "            INNER JOIN bookings ON f.facid = bookings.facid\n",
    "            GROUP BY facility \n",
    "            ORDER BY profit DESC;\n",
    "        '''\n",
    "\n",
    "df = pd.read_sql_query(query, conn)\n",
    "df.style.hide_index()"
   ]
  },
  {
   "cell_type": "markdown",
   "metadata": {},
   "source": [
    "The most profitable facilities are Massage Room 1, Squash Court and Tennis Court 2 for the time period noted.  In contrast, the facilities with the greatest loss for the time period are the Badminton Court, Snooker Table and Pool Table (in order of greatest to least). Contributors to loss in each of these facilities can be attributed to pricing for members and guests.  \n",
    "\n",
    "Our steepest loss (by far) is the badminton court. This is because the initial investment was $ 4000 (the same as the massages rooms). However, it's free for members and only $15 for guests. Whereas the massage room is $10 for members and $80 for guests. The monthly maintenance for the badminton court is only $50 vs $3000 for the massage rooms, so we expect it to become profitable over time due to low mainatenance cost. However we may want to look into increasing the price. "
   ]
  },
  {
   "cell_type": "markdown",
   "metadata": {},
   "source": [
    "Let's take a look at the average amount of bookings per member:"
   ]
  },
  {
   "cell_type": "code",
   "execution_count": 351,
   "metadata": {},
   "outputs": [
    {
     "data": {
      "text/html": "<style  type=\"text/css\" >\n</style><table id=\"T_0736c_\" ><thead>    <tr>        <th class=\"col_heading level0 col0\" >bookings_per_member</th>    </tr></thead><tbody>\n                <tr>\n                                <td id=\"T_0736c_row0_col0\" class=\"data row0 col0\" >134</td>\n            </tr>\n    </tbody></table>",
      "text/plain": "<pandas.io.formats.style.Styler at 0x11ae85a00>"
     },
     "execution_count": 351,
     "metadata": {},
     "output_type": "execute_result"
    }
   ],
   "source": [
    "# The count of bookings divided by the count of unique member id's\n",
    "\n",
    "query = ''' SELECT (COUNT(b.bookid) / COUNT(DISTINCT memid)) AS bookings_per_member\n",
    "            FROM bookings AS b;\n",
    "            \n",
    "        '''\n",
    "\n",
    "\n",
    "df = pd.read_sql_query(query, conn)\n",
    "df.style.hide_index()"
   ]
  },
  {
   "cell_type": "markdown",
   "metadata": {},
   "source": [
    "Let's calculate the revenue per member:"
   ]
  },
  {
   "cell_type": "code",
   "execution_count": 395,
   "metadata": {},
   "outputs": [
    {
     "data": {
      "text/html": "<style  type=\"text/css\" >\n</style><table id=\"T_e2f31_\" ><thead>    <tr>        <th class=\"col_heading level0 col0\" >revenue_per_member</th>    </tr></thead><tbody>\n                <tr>\n                                <td id=\"T_e2f31_row0_col0\" class=\"data row0 col0\" >3634.690000</td>\n            </tr>\n    </tbody></table>",
      "text/plain": "<pandas.io.formats.style.Styler at 0x11bd316d0>"
     },
     "execution_count": 395,
     "metadata": {},
     "output_type": "execute_result"
    }
   ],
   "source": [
    "# Total revenue divided by total members \n",
    "\n",
    "query = ''' WITH revenue AS \n",
    "            (SELECT f.name AS facility,\n",
    "            SUM(CASE WHEN bookings.memid != 0 THEN f.membercost * bookings.slots\n",
    "    \t            ELSE f.guestcost * bookings.slots END) AS revenue_per_fac\n",
    "            FROM Facilities AS f\n",
    "            INNER JOIN bookings ON f.facid = bookings.facid\n",
    "            GROUP BY facility),\n",
    "\n",
    "            member_count AS\n",
    "            (SELECT COUNT(DISTINCT m.memid) AS mem\n",
    "            FROM members AS m\n",
    "            WHERE m.memid != 0 )\n",
    "\n",
    "            SELECT (SUM(revenue_per_fac) /  mem)  AS revenue_per_member\n",
    "            FROM revenue,\n",
    "            member_count;\n",
    "            \n",
    "        '''\n",
    "\n",
    "df = pd.read_sql_query(query, conn)\n",
    "df.style.hide_index()"
   ]
  },
  {
   "cell_type": "markdown",
   "metadata": {},
   "source": [
    "Let's calculate the revenue per booking:"
   ]
  },
  {
   "cell_type": "code",
   "execution_count": 404,
   "metadata": {},
   "outputs": [
    {
     "data": {
      "text/html": "<style  type=\"text/css\" >\n</style><table id=\"T_5a83a_\" ><thead>    <tr>        <th class=\"col_heading level0 col0\" >revenue_per_booking</th>    </tr></thead><tbody>\n                <tr>\n                                <td id=\"T_5a83a_row0_col0\" class=\"data row0 col0\" >26.970245</td>\n            </tr>\n    </tbody></table>",
      "text/plain": "<pandas.io.formats.style.Styler at 0x11aef90a0>"
     },
     "execution_count": 404,
     "metadata": {},
     "output_type": "execute_result"
    }
   ],
   "source": [
    "# Total revenue divided by total bookings \n",
    "\n",
    "query = ''' WITH revenue AS \n",
    "            (SELECT f.name AS facility,\n",
    "            SUM(CASE WHEN bookings.memid != 0 THEN f.membercost * bookings.slots\n",
    "    \t            ELSE f.guestcost * bookings.slots END) AS revenue_per_fac\n",
    "            FROM Facilities AS f\n",
    "            INNER JOIN bookings ON f.facid = bookings.facid\n",
    "            GROUP BY facility),\n",
    "\n",
    "            booking_count AS\n",
    "            (SELECT COUNT(DISTINCT bookid) AS count_\n",
    "            FROM bookings)\n",
    "\n",
    "            SELECT (SUM(revenue_per_fac) / count_) AS revenue_per_booking\n",
    "            FROM revenue,\n",
    "            booking_count;\n",
    "            \n",
    "        '''\n",
    "\n",
    "df = pd.read_sql_query(query, conn)\n",
    "df.style.hide_index()"
   ]
  },
  {
   "cell_type": "markdown",
   "metadata": {},
   "source": [
    "Excellent! \n",
    "\n",
    "We are making $3,634 per member and $27 per booking."
   ]
  },
  {
   "cell_type": "markdown",
   "metadata": {},
   "source": [
    "Now that we've examined our revenue/profit, let's make some more inquiries:"
   ]
  },
  {
   "cell_type": "code",
   "execution_count": 93,
   "metadata": {},
   "outputs": [
    {
     "data": {
      "text/html": "<style  type=\"text/css\" >\n</style><table id=\"T_1e9a2_\" ><thead>    <tr>        <th class=\"col_heading level0 col0\" >name</th>        <th class=\"col_heading level0 col1\" >contact</th>        <th class=\"col_heading level0 col2\" >facility</th>    </tr></thead><tbody>\n                <tr>\n                                <td id=\"T_1e9a2_row0_col0\" class=\"data row0 col0\" >Anne Baker</td>\n                        <td id=\"T_1e9a2_row0_col1\" class=\"data row0 col1\" >844-076-5141</td>\n                        <td id=\"T_1e9a2_row0_col2\" class=\"data row0 col2\" >Tennis Court 1</td>\n            </tr>\n            <tr>\n                                <td id=\"T_1e9a2_row1_col0\" class=\"data row1 col0\" >Burton Tracy</td>\n                        <td id=\"T_1e9a2_row1_col1\" class=\"data row1 col1\" >(822) 354-9973</td>\n                        <td id=\"T_1e9a2_row1_col2\" class=\"data row1 col2\" >Tennis Court 2</td>\n            </tr>\n            <tr>\n                                <td id=\"T_1e9a2_row2_col0\" class=\"data row2 col0\" >Charles Owen</td>\n                        <td id=\"T_1e9a2_row2_col1\" class=\"data row2 col1\" >(855) 542-5251</td>\n                        <td id=\"T_1e9a2_row2_col2\" class=\"data row2 col2\" >Tennis Court 1</td>\n            </tr>\n            <tr>\n                                <td id=\"T_1e9a2_row3_col0\" class=\"data row3 col0\" >Darren Smith</td>\n                        <td id=\"T_1e9a2_row3_col1\" class=\"data row3 col1\" >555-555-5555</td>\n                        <td id=\"T_1e9a2_row3_col2\" class=\"data row3 col2\" >Tennis Court 2</td>\n            </tr>\n            <tr>\n                                <td id=\"T_1e9a2_row4_col0\" class=\"data row4 col0\" >David Jones</td>\n                        <td id=\"T_1e9a2_row4_col1\" class=\"data row4 col1\" >(844) 536-8036</td>\n                        <td id=\"T_1e9a2_row4_col2\" class=\"data row4 col2\" >Tennis Court 2</td>\n            </tr>\n            <tr>\n                                <td id=\"T_1e9a2_row5_col0\" class=\"data row5 col0\" >Douglas Jones</td>\n                        <td id=\"T_1e9a2_row5_col1\" class=\"data row5 col1\" >844 536-8036</td>\n                        <td id=\"T_1e9a2_row5_col2\" class=\"data row5 col2\" >Tennis Court 1</td>\n            </tr>\n            <tr>\n                                <td id=\"T_1e9a2_row6_col0\" class=\"data row6 col0\" >Erica Crumpet</td>\n                        <td id=\"T_1e9a2_row6_col1\" class=\"data row6 col1\" >(811) 732-4816</td>\n                        <td id=\"T_1e9a2_row6_col2\" class=\"data row6 col2\" >Tennis Court 1</td>\n            </tr>\n            <tr>\n                                <td id=\"T_1e9a2_row7_col0\" class=\"data row7 col0\" >Florence Bader</td>\n                        <td id=\"T_1e9a2_row7_col1\" class=\"data row7 col1\" >(833) 499-3527</td>\n                        <td id=\"T_1e9a2_row7_col2\" class=\"data row7 col2\" >Tennis Court 2</td>\n            </tr>\n            <tr>\n                                <td id=\"T_1e9a2_row8_col0\" class=\"data row8 col0\" >Gerald Butters</td>\n                        <td id=\"T_1e9a2_row8_col1\" class=\"data row8 col1\" >(844) 078-4130</td>\n                        <td id=\"T_1e9a2_row8_col2\" class=\"data row8 col2\" >Tennis Court 1</td>\n            </tr>\n            <tr>\n                                <td id=\"T_1e9a2_row9_col0\" class=\"data row9 col0\" >Henrietta Rumney</td>\n                        <td id=\"T_1e9a2_row9_col1\" class=\"data row9 col1\" >(822) 989-8876</td>\n                        <td id=\"T_1e9a2_row9_col2\" class=\"data row9 col2\" >Tennis Court 2</td>\n            </tr>\n            <tr>\n                                <td id=\"T_1e9a2_row10_col0\" class=\"data row10 col0\" >Jack Smith</td>\n                        <td id=\"T_1e9a2_row10_col1\" class=\"data row10 col1\" >(822) 163-3254</td>\n                        <td id=\"T_1e9a2_row10_col2\" class=\"data row10 col2\" >Tennis Court 1</td>\n            </tr>\n            <tr>\n                                <td id=\"T_1e9a2_row11_col0\" class=\"data row11 col0\" >Janice Joplette</td>\n                        <td id=\"T_1e9a2_row11_col1\" class=\"data row11 col1\" >(833) 942-4710</td>\n                        <td id=\"T_1e9a2_row11_col2\" class=\"data row11 col2\" >Tennis Court 1</td>\n            </tr>\n            <tr>\n                                <td id=\"T_1e9a2_row12_col0\" class=\"data row12 col0\" >Jemima Farrell</td>\n                        <td id=\"T_1e9a2_row12_col1\" class=\"data row12 col1\" >(855) 016-0163</td>\n                        <td id=\"T_1e9a2_row12_col2\" class=\"data row12 col2\" >Tennis Court 2</td>\n            </tr>\n            <tr>\n                                <td id=\"T_1e9a2_row13_col0\" class=\"data row13 col0\" >Joan Coplin</td>\n                        <td id=\"T_1e9a2_row13_col1\" class=\"data row13 col1\" >(822) 499-2232</td>\n                        <td id=\"T_1e9a2_row13_col2\" class=\"data row13 col2\" >Tennis Court 1</td>\n            </tr>\n            <tr>\n                                <td id=\"T_1e9a2_row14_col0\" class=\"data row14 col0\" >John Hunt</td>\n                        <td id=\"T_1e9a2_row14_col1\" class=\"data row14 col1\" >(899) 720-6978</td>\n                        <td id=\"T_1e9a2_row14_col2\" class=\"data row14 col2\" >Tennis Court 1</td>\n            </tr>\n            <tr>\n                                <td id=\"T_1e9a2_row15_col0\" class=\"data row15 col0\" >Matthew Genting</td>\n                        <td id=\"T_1e9a2_row15_col1\" class=\"data row15 col1\" >(811) 972-1377</td>\n                        <td id=\"T_1e9a2_row15_col2\" class=\"data row15 col2\" >Tennis Court 1</td>\n            </tr>\n            <tr>\n                                <td id=\"T_1e9a2_row16_col0\" class=\"data row16 col0\" >Millicent Purview</td>\n                        <td id=\"T_1e9a2_row16_col1\" class=\"data row16 col1\" >(855) 941-9786</td>\n                        <td id=\"T_1e9a2_row16_col2\" class=\"data row16 col2\" >Tennis Court 2</td>\n            </tr>\n            <tr>\n                                <td id=\"T_1e9a2_row17_col0\" class=\"data row17 col0\" >Nancy Dare</td>\n                        <td id=\"T_1e9a2_row17_col1\" class=\"data row17 col1\" >(833) 776-4001</td>\n                        <td id=\"T_1e9a2_row17_col2\" class=\"data row17 col2\" >Tennis Court 2</td>\n            </tr>\n            <tr>\n                                <td id=\"T_1e9a2_row18_col0\" class=\"data row18 col0\" >Ponder Stibbons</td>\n                        <td id=\"T_1e9a2_row18_col1\" class=\"data row18 col1\" >(833) 160-3900</td>\n                        <td id=\"T_1e9a2_row18_col2\" class=\"data row18 col2\" >Tennis Court 2</td>\n            </tr>\n            <tr>\n                                <td id=\"T_1e9a2_row19_col0\" class=\"data row19 col0\" >Ramnaresh Sarwin</td>\n                        <td id=\"T_1e9a2_row19_col1\" class=\"data row19 col1\" >(822) 413-1470</td>\n                        <td id=\"T_1e9a2_row19_col2\" class=\"data row19 col2\" >Tennis Court 2</td>\n            </tr>\n            <tr>\n                                <td id=\"T_1e9a2_row20_col0\" class=\"data row20 col0\" >Tim Rownam</td>\n                        <td id=\"T_1e9a2_row20_col1\" class=\"data row20 col1\" >(844) 693-0723</td>\n                        <td id=\"T_1e9a2_row20_col2\" class=\"data row20 col2\" >Tennis Court 2</td>\n            </tr>\n            <tr>\n                                <td id=\"T_1e9a2_row21_col0\" class=\"data row21 col0\" >Timothy Baker</td>\n                        <td id=\"T_1e9a2_row21_col1\" class=\"data row21 col1\" >833-941-0824</td>\n                        <td id=\"T_1e9a2_row21_col2\" class=\"data row21 col2\" >Tennis Court 2</td>\n            </tr>\n            <tr>\n                                <td id=\"T_1e9a2_row22_col0\" class=\"data row22 col0\" >Tracy Smith</td>\n                        <td id=\"T_1e9a2_row22_col1\" class=\"data row22 col1\" >555-555-5555</td>\n                        <td id=\"T_1e9a2_row22_col2\" class=\"data row22 col2\" >Tennis Court 1</td>\n            </tr>\n    </tbody></table>",
      "text/plain": "<pandas.io.formats.style.Styler at 0x11c870790>"
     },
     "execution_count": 93,
     "metadata": {},
     "output_type": "execute_result"
    }
   ],
   "source": [
    "# We are considering making some design changes to the the tennis courts. \n",
    "# Let's produce a list of all members who have used a tennis court to send out a phone survey. \n",
    "\n",
    "query = '''SELECT DISTINCT m.firstname || ' ' || m.surname AS name,\n",
    "                  m.telephone AS contact,\n",
    "\t\t          Facilities.name AS facility\n",
    "            FROM Members AS m \n",
    "            JOIN Bookings ON m.memid = Bookings.memid\n",
    "            JOIN Facilities ON Facilities.facid = Bookings.facid\n",
    "            WHERE Facilities.name LIKE 'Tennis%' AND m.firstname NOT LIKE 'Guest%'\n",
    "            GROUP BY m.firstname\n",
    "            ORDER BY name;\n",
    "        '''\n",
    "\n",
    "\n",
    "df = pd.read_sql_query(query, conn)\n",
    "df.style.hide_index()"
   ]
  },
  {
   "cell_type": "code",
   "execution_count": 142,
   "metadata": {},
   "outputs": [
    {
     "data": {
      "text/html": "<style  type=\"text/css\" >\n</style><table id=\"T_88b5d_\" ><thead>    <tr>        <th class=\"col_heading level0 col0\" >new member</th>        <th class=\"col_heading level0 col1\" >recommended by</th>        <th class=\"col_heading level0 col2\" >address</th>    </tr></thead><tbody>\n                <tr>\n                                <td id=\"T_88b5d_row0_col0\" class=\"data row0 col0\" >Florence Bader</td>\n                        <td id=\"T_88b5d_row0_col1\" class=\"data row0 col1\" >Ponder Stibbons</td>\n                        <td id=\"T_88b5d_row0_col2\" class=\"data row0 col2\" >5 Dragons Way, Winchester</td>\n            </tr>\n            <tr>\n                                <td id=\"T_88b5d_row1_col0\" class=\"data row1 col0\" >Anne Baker</td>\n                        <td id=\"T_88b5d_row1_col1\" class=\"data row1 col1\" >Ponder Stibbons</td>\n                        <td id=\"T_88b5d_row1_col2\" class=\"data row1 col2\" >5 Dragons Way, Winchester</td>\n            </tr>\n            <tr>\n                                <td id=\"T_88b5d_row2_col0\" class=\"data row2 col0\" >Timothy Baker</td>\n                        <td id=\"T_88b5d_row2_col1\" class=\"data row2 col1\" >Jemima Farrell</td>\n                        <td id=\"T_88b5d_row2_col2\" class=\"data row2 col2\" >103 Firth Avenue, North Reading</td>\n            </tr>\n            <tr>\n                                <td id=\"T_88b5d_row3_col0\" class=\"data row3 col0\" >Tim Boothe</td>\n                        <td id=\"T_88b5d_row3_col1\" class=\"data row3 col1\" >Tim Rownam</td>\n                        <td id=\"T_88b5d_row3_col2\" class=\"data row3 col2\" >23 Highway Way, Boston</td>\n            </tr>\n            <tr>\n                                <td id=\"T_88b5d_row4_col0\" class=\"data row4 col0\" >Gerald Butters</td>\n                        <td id=\"T_88b5d_row4_col1\" class=\"data row4 col1\" >Darren Smith</td>\n                        <td id=\"T_88b5d_row4_col2\" class=\"data row4 col2\" >8 Bloomsbury Close, Boston</td>\n            </tr>\n            <tr>\n                                <td id=\"T_88b5d_row5_col0\" class=\"data row5 col0\" >Joan Coplin</td>\n                        <td id=\"T_88b5d_row5_col1\" class=\"data row5 col1\" >Timothy Baker</td>\n                        <td id=\"T_88b5d_row5_col2\" class=\"data row5 col2\" >329 James Street, Reading</td>\n            </tr>\n            <tr>\n                                <td id=\"T_88b5d_row6_col0\" class=\"data row6 col0\" >Erica Crumpet</td>\n                        <td id=\"T_88b5d_row6_col1\" class=\"data row6 col1\" >Tracy Smith</td>\n                        <td id=\"T_88b5d_row6_col2\" class=\"data row6 col2\" >8 Bloomsbury Close, New York</td>\n            </tr>\n            <tr>\n                                <td id=\"T_88b5d_row7_col0\" class=\"data row7 col0\" >Nancy Dare</td>\n                        <td id=\"T_88b5d_row7_col1\" class=\"data row7 col1\" >Janice Joplette</td>\n                        <td id=\"T_88b5d_row7_col2\" class=\"data row7 col2\" >20 Crossing Road, New York</td>\n            </tr>\n            <tr>\n                                <td id=\"T_88b5d_row8_col0\" class=\"data row8 col0\" >Matthew Genting</td>\n                        <td id=\"T_88b5d_row8_col1\" class=\"data row8 col1\" >Gerald Butters</td>\n                        <td id=\"T_88b5d_row8_col2\" class=\"data row8 col2\" >1065 Huntingdon Avenue, Boston</td>\n            </tr>\n            <tr>\n                                <td id=\"T_88b5d_row9_col0\" class=\"data row9 col0\" >John Hunt</td>\n                        <td id=\"T_88b5d_row9_col1\" class=\"data row9 col1\" >Millicent Purview</td>\n                        <td id=\"T_88b5d_row9_col2\" class=\"data row9 col2\" >641 Drudgery Close, Burnington, Boston</td>\n            </tr>\n            <tr>\n                                <td id=\"T_88b5d_row10_col0\" class=\"data row10 col0\" >David Jones</td>\n                        <td id=\"T_88b5d_row10_col1\" class=\"data row10 col1\" >Janice Joplette</td>\n                        <td id=\"T_88b5d_row10_col2\" class=\"data row10 col2\" >20 Crossing Road, New York</td>\n            </tr>\n            <tr>\n                                <td id=\"T_88b5d_row11_col0\" class=\"data row11 col0\" >Douglas Jones</td>\n                        <td id=\"T_88b5d_row11_col1\" class=\"data row11 col1\" >David Jones</td>\n                        <td id=\"T_88b5d_row11_col2\" class=\"data row11 col2\" >976 Gnats Close, Reading</td>\n            </tr>\n            <tr>\n                                <td id=\"T_88b5d_row12_col0\" class=\"data row12 col0\" >Janice Joplette</td>\n                        <td id=\"T_88b5d_row12_col1\" class=\"data row12 col1\" >Darren Smith</td>\n                        <td id=\"T_88b5d_row12_col2\" class=\"data row12 col2\" >8 Bloomsbury Close, Boston</td>\n            </tr>\n            <tr>\n                                <td id=\"T_88b5d_row13_col0\" class=\"data row13 col0\" >Anna Mackenzie</td>\n                        <td id=\"T_88b5d_row13_col1\" class=\"data row13 col1\" >Darren Smith</td>\n                        <td id=\"T_88b5d_row13_col2\" class=\"data row13 col2\" >8 Bloomsbury Close, Boston</td>\n            </tr>\n            <tr>\n                                <td id=\"T_88b5d_row14_col0\" class=\"data row14 col0\" >Charles Owen</td>\n                        <td id=\"T_88b5d_row14_col1\" class=\"data row14 col1\" >Darren Smith</td>\n                        <td id=\"T_88b5d_row14_col2\" class=\"data row14 col2\" >8 Bloomsbury Close, Boston</td>\n            </tr>\n            <tr>\n                                <td id=\"T_88b5d_row15_col0\" class=\"data row15 col0\" >David Pinker</td>\n                        <td id=\"T_88b5d_row15_col1\" class=\"data row15 col1\" >Jemima Farrell</td>\n                        <td id=\"T_88b5d_row15_col2\" class=\"data row15 col2\" >103 Firth Avenue, North Reading</td>\n            </tr>\n            <tr>\n                                <td id=\"T_88b5d_row16_col0\" class=\"data row16 col0\" >Millicent Purview</td>\n                        <td id=\"T_88b5d_row16_col1\" class=\"data row16 col1\" >Tracy Smith</td>\n                        <td id=\"T_88b5d_row16_col2\" class=\"data row16 col2\" >8 Bloomsbury Close, New York</td>\n            </tr>\n            <tr>\n                                <td id=\"T_88b5d_row17_col0\" class=\"data row17 col0\" >Henrietta Rumney</td>\n                        <td id=\"T_88b5d_row17_col1\" class=\"data row17 col1\" >Matthew Genting</td>\n                        <td id=\"T_88b5d_row17_col2\" class=\"data row17 col2\" >4 Nunnington Place, Wingfield, Boston</td>\n            </tr>\n            <tr>\n                                <td id=\"T_88b5d_row18_col0\" class=\"data row18 col0\" >Ramnaresh Sarwin</td>\n                        <td id=\"T_88b5d_row18_col1\" class=\"data row18 col1\" >Florence Bader</td>\n                        <td id=\"T_88b5d_row18_col2\" class=\"data row18 col2\" >264 Ursula Drive, Westford</td>\n            </tr>\n            <tr>\n                                <td id=\"T_88b5d_row19_col0\" class=\"data row19 col0\" >Jack Smith</td>\n                        <td id=\"T_88b5d_row19_col1\" class=\"data row19 col1\" >Darren Smith</td>\n                        <td id=\"T_88b5d_row19_col2\" class=\"data row19 col2\" >8 Bloomsbury Close, Boston</td>\n            </tr>\n            <tr>\n                                <td id=\"T_88b5d_row20_col0\" class=\"data row20 col0\" >Ponder Stibbons</td>\n                        <td id=\"T_88b5d_row20_col1\" class=\"data row20 col1\" >Burton Tracy</td>\n                        <td id=\"T_88b5d_row20_col2\" class=\"data row20 col2\" >3 Tunisia Drive, Boston</td>\n            </tr>\n            <tr>\n                                <td id=\"T_88b5d_row21_col0\" class=\"data row21 col0\" >Henry Worthington-Smyth</td>\n                        <td id=\"T_88b5d_row21_col1\" class=\"data row21 col1\" >Tracy Smith</td>\n                        <td id=\"T_88b5d_row21_col2\" class=\"data row21 col2\" >8 Bloomsbury Close, New York</td>\n            </tr>\n    </tbody></table>",
      "text/plain": "<pandas.io.formats.style.Styler at 0x11aed9c70>"
     },
     "execution_count": 142,
     "metadata": {},
     "output_type": "execute_result"
    }
   ],
   "source": [
    "# We would like to send out appreciation cards to members who have recommended others who in turn became new members!\n",
    "# Let's produce a report of members and those who recommended them in alphabetical order\n",
    "\n",
    "query = '''SELECT m.firstname || ' ' || m.surname AS 'new member',\n",
    "\t\t  m1.firstname || ' ' || m1.surname AS 'recommended by',\n",
    "                  m1.address \n",
    "           FROM Members as m\n",
    "           INNER JOIN Members as m1 \n",
    "           ON m.recommendedby = m1.memid\n",
    "           WHERE m1.memid != 0\n",
    "           ORDER BY m.surname, m.firstname;\n",
    "        '''\n",
    "\n",
    "df = pd.read_sql_query(query, conn)\n",
    "df.style.hide_index()"
   ]
  },
  {
   "cell_type": "code",
   "execution_count": 237,
   "metadata": {},
   "outputs": [
    {
     "data": {
      "text/html": "<style  type=\"text/css\" >\n</style><table id=\"T_06a6f_\" ><thead>    <tr>        <th class=\"col_heading level0 col0\" >Name</th>        <th class=\"col_heading level0 col1\" >Booking_count</th>    </tr></thead><tbody>\n                <tr>\n                                <td id=\"T_06a6f_row0_col0\" class=\"data row0 col0\" >Pool Table</td>\n                        <td id=\"T_06a6f_row0_col1\" class=\"data row0 col1\" >783</td>\n            </tr>\n            <tr>\n                                <td id=\"T_06a6f_row1_col0\" class=\"data row1 col0\" >Massage Room 1</td>\n                        <td id=\"T_06a6f_row1_col1\" class=\"data row1 col1\" >421</td>\n            </tr>\n            <tr>\n                                <td id=\"T_06a6f_row2_col0\" class=\"data row2 col0\" >Snooker Table</td>\n                        <td id=\"T_06a6f_row2_col1\" class=\"data row2 col1\" >421</td>\n            </tr>\n            <tr>\n                                <td id=\"T_06a6f_row3_col0\" class=\"data row3 col0\" >Table Tennis</td>\n                        <td id=\"T_06a6f_row3_col1\" class=\"data row3 col1\" >385</td>\n            </tr>\n            <tr>\n                                <td id=\"T_06a6f_row4_col0\" class=\"data row4 col0\" >Badminton Court</td>\n                        <td id=\"T_06a6f_row4_col1\" class=\"data row4 col1\" >344</td>\n            </tr>\n            <tr>\n                                <td id=\"T_06a6f_row5_col0\" class=\"data row5 col0\" >Tennis Court 1</td>\n                        <td id=\"T_06a6f_row5_col1\" class=\"data row5 col1\" >308</td>\n            </tr>\n            <tr>\n                                <td id=\"T_06a6f_row6_col0\" class=\"data row6 col0\" >Tennis Court 2</td>\n                        <td id=\"T_06a6f_row6_col1\" class=\"data row6 col1\" >276</td>\n            </tr>\n            <tr>\n                                <td id=\"T_06a6f_row7_col0\" class=\"data row7 col0\" >Squash Court</td>\n                        <td id=\"T_06a6f_row7_col1\" class=\"data row7 col1\" >195</td>\n            </tr>\n            <tr>\n                                <td id=\"T_06a6f_row8_col0\" class=\"data row8 col0\" >Massage Room 2</td>\n                        <td id=\"T_06a6f_row8_col1\" class=\"data row8 col1\" >27</td>\n            </tr>\n    </tbody></table>",
      "text/plain": "<pandas.io.formats.style.Styler at 0x11b487610>"
     },
     "execution_count": 237,
     "metadata": {},
     "output_type": "execute_result"
    }
   ],
   "source": [
    "# We would like to find the most popular facilities amongst our members\n",
    "# Let's produce a list of the facilities with their total usage (booking count) over the 3 month period (guests not included)\n",
    "\n",
    "query = ''' SELECT f.name AS 'Name', \n",
    "                   b.total AS Booking_count\n",
    "            FROM Facilities AS f\n",
    "            LEFT JOIN (SELECT facid, COUNT(bookid) AS total\n",
    "            FROM Bookings AS b\n",
    "            WHERE memid != 0\n",
    "            GROUP BY facid) AS b \n",
    "            ON f.facid = b.facid\n",
    "            ORDER BY Booking_count DESC;\n",
    "        '''\n",
    "\n",
    "\n",
    "df = pd.read_sql_query(query, conn)\n",
    "df.style.hide_index()"
   ]
  },
  {
   "cell_type": "code",
   "execution_count": 408,
   "metadata": {},
   "outputs": [
    {
     "data": {
      "text/html": "<style  type=\"text/css\" >\n</style><table id=\"T_a1a73_\" ><thead>    <tr>        <th class=\"col_heading level0 col0\" >Month</th>        <th class=\"col_heading level0 col1\" >Facility</th>        <th class=\"col_heading level0 col2\" >Monthly_Usage</th>    </tr></thead><tbody>\n                <tr>\n                                <td id=\"T_a1a73_row0_col0\" class=\"data row0 col0\" >July</td>\n                        <td id=\"T_a1a73_row0_col1\" class=\"data row0 col1\" >Pool Table</td>\n                        <td id=\"T_a1a73_row0_col2\" class=\"data row0 col2\" >103</td>\n            </tr>\n            <tr>\n                                <td id=\"T_a1a73_row1_col0\" class=\"data row1 col0\" >July</td>\n                        <td id=\"T_a1a73_row1_col1\" class=\"data row1 col1\" >Massage Room 1</td>\n                        <td id=\"T_a1a73_row1_col2\" class=\"data row1 col2\" >77</td>\n            </tr>\n            <tr>\n                                <td id=\"T_a1a73_row2_col0\" class=\"data row2 col0\" >July</td>\n                        <td id=\"T_a1a73_row2_col1\" class=\"data row2 col1\" >Snooker Table</td>\n                        <td id=\"T_a1a73_row2_col2\" class=\"data row2 col2\" >68</td>\n            </tr>\n            <tr>\n                                <td id=\"T_a1a73_row3_col0\" class=\"data row3 col0\" >July</td>\n                        <td id=\"T_a1a73_row3_col1\" class=\"data row3 col1\" >Tennis Court 1</td>\n                        <td id=\"T_a1a73_row3_col2\" class=\"data row3 col2\" >65</td>\n            </tr>\n            <tr>\n                                <td id=\"T_a1a73_row4_col0\" class=\"data row4 col0\" >July</td>\n                        <td id=\"T_a1a73_row4_col1\" class=\"data row4 col1\" >Badminton Court</td>\n                        <td id=\"T_a1a73_row4_col2\" class=\"data row4 col2\" >51</td>\n            </tr>\n            <tr>\n                                <td id=\"T_a1a73_row5_col0\" class=\"data row5 col0\" >July</td>\n                        <td id=\"T_a1a73_row5_col1\" class=\"data row5 col1\" >Table Tennis</td>\n                        <td id=\"T_a1a73_row5_col2\" class=\"data row5 col2\" >48</td>\n            </tr>\n            <tr>\n                                <td id=\"T_a1a73_row6_col0\" class=\"data row6 col0\" >July</td>\n                        <td id=\"T_a1a73_row6_col1\" class=\"data row6 col1\" >Tennis Court 2</td>\n                        <td id=\"T_a1a73_row6_col2\" class=\"data row6 col2\" >41</td>\n            </tr>\n            <tr>\n                                <td id=\"T_a1a73_row7_col0\" class=\"data row7 col0\" >July</td>\n                        <td id=\"T_a1a73_row7_col1\" class=\"data row7 col1\" >Squash Court</td>\n                        <td id=\"T_a1a73_row7_col2\" class=\"data row7 col2\" >23</td>\n            </tr>\n            <tr>\n                                <td id=\"T_a1a73_row8_col0\" class=\"data row8 col0\" >July</td>\n                        <td id=\"T_a1a73_row8_col1\" class=\"data row8 col1\" >Massage Room 2</td>\n                        <td id=\"T_a1a73_row8_col2\" class=\"data row8 col2\" >4</td>\n            </tr>\n            <tr>\n                                <td id=\"T_a1a73_row9_col0\" class=\"data row9 col0\" >August</td>\n                        <td id=\"T_a1a73_row9_col1\" class=\"data row9 col1\" >Pool Table</td>\n                        <td id=\"T_a1a73_row9_col2\" class=\"data row9 col2\" >272</td>\n            </tr>\n            <tr>\n                                <td id=\"T_a1a73_row10_col0\" class=\"data row10 col0\" >August</td>\n                        <td id=\"T_a1a73_row10_col1\" class=\"data row10 col1\" >Snooker Table</td>\n                        <td id=\"T_a1a73_row10_col2\" class=\"data row10 col2\" >154</td>\n            </tr>\n            <tr>\n                                <td id=\"T_a1a73_row11_col0\" class=\"data row11 col0\" >August</td>\n                        <td id=\"T_a1a73_row11_col1\" class=\"data row11 col1\" >Massage Room 1</td>\n                        <td id=\"T_a1a73_row11_col2\" class=\"data row11 col2\" >153</td>\n            </tr>\n            <tr>\n                                <td id=\"T_a1a73_row12_col0\" class=\"data row12 col0\" >August</td>\n                        <td id=\"T_a1a73_row12_col1\" class=\"data row12 col1\" >Table Tennis</td>\n                        <td id=\"T_a1a73_row12_col2\" class=\"data row12 col2\" >143</td>\n            </tr>\n            <tr>\n                                <td id=\"T_a1a73_row13_col0\" class=\"data row13 col0\" >August</td>\n                        <td id=\"T_a1a73_row13_col1\" class=\"data row13 col1\" >Badminton Court</td>\n                        <td id=\"T_a1a73_row13_col2\" class=\"data row13 col2\" >132</td>\n            </tr>\n            <tr>\n                                <td id=\"T_a1a73_row14_col0\" class=\"data row14 col0\" >August</td>\n                        <td id=\"T_a1a73_row14_col1\" class=\"data row14 col1\" >Tennis Court 1</td>\n                        <td id=\"T_a1a73_row14_col2\" class=\"data row14 col2\" >111</td>\n            </tr>\n            <tr>\n                                <td id=\"T_a1a73_row15_col0\" class=\"data row15 col0\" >August</td>\n                        <td id=\"T_a1a73_row15_col1\" class=\"data row15 col1\" >Tennis Court 2</td>\n                        <td id=\"T_a1a73_row15_col2\" class=\"data row15 col2\" >109</td>\n            </tr>\n            <tr>\n                                <td id=\"T_a1a73_row16_col0\" class=\"data row16 col0\" >August</td>\n                        <td id=\"T_a1a73_row16_col1\" class=\"data row16 col1\" >Squash Court</td>\n                        <td id=\"T_a1a73_row16_col2\" class=\"data row16 col2\" >85</td>\n            </tr>\n            <tr>\n                                <td id=\"T_a1a73_row17_col0\" class=\"data row17 col0\" >August</td>\n                        <td id=\"T_a1a73_row17_col1\" class=\"data row17 col1\" >Massage Room 2</td>\n                        <td id=\"T_a1a73_row17_col2\" class=\"data row17 col2\" >9</td>\n            </tr>\n            <tr>\n                                <td id=\"T_a1a73_row18_col0\" class=\"data row18 col0\" >September</td>\n                        <td id=\"T_a1a73_row18_col1\" class=\"data row18 col1\" >Pool Table</td>\n                        <td id=\"T_a1a73_row18_col2\" class=\"data row18 col2\" >408</td>\n            </tr>\n            <tr>\n                                <td id=\"T_a1a73_row19_col0\" class=\"data row19 col0\" >September</td>\n                        <td id=\"T_a1a73_row19_col1\" class=\"data row19 col1\" >Snooker Table</td>\n                        <td id=\"T_a1a73_row19_col2\" class=\"data row19 col2\" >199</td>\n            </tr>\n            <tr>\n                                <td id=\"T_a1a73_row20_col0\" class=\"data row20 col0\" >September</td>\n                        <td id=\"T_a1a73_row20_col1\" class=\"data row20 col1\" >Table Tennis</td>\n                        <td id=\"T_a1a73_row20_col2\" class=\"data row20 col2\" >194</td>\n            </tr>\n            <tr>\n                                <td id=\"T_a1a73_row21_col0\" class=\"data row21 col0\" >September</td>\n                        <td id=\"T_a1a73_row21_col1\" class=\"data row21 col1\" >Massage Room 1</td>\n                        <td id=\"T_a1a73_row21_col2\" class=\"data row21 col2\" >191</td>\n            </tr>\n            <tr>\n                                <td id=\"T_a1a73_row22_col0\" class=\"data row22 col0\" >September</td>\n                        <td id=\"T_a1a73_row22_col1\" class=\"data row22 col1\" >Badminton Court</td>\n                        <td id=\"T_a1a73_row22_col2\" class=\"data row22 col2\" >161</td>\n            </tr>\n            <tr>\n                                <td id=\"T_a1a73_row23_col0\" class=\"data row23 col0\" >September</td>\n                        <td id=\"T_a1a73_row23_col1\" class=\"data row23 col1\" >Tennis Court 1</td>\n                        <td id=\"T_a1a73_row23_col2\" class=\"data row23 col2\" >132</td>\n            </tr>\n            <tr>\n                                <td id=\"T_a1a73_row24_col0\" class=\"data row24 col0\" >September</td>\n                        <td id=\"T_a1a73_row24_col1\" class=\"data row24 col1\" >Tennis Court 2</td>\n                        <td id=\"T_a1a73_row24_col2\" class=\"data row24 col2\" >126</td>\n            </tr>\n            <tr>\n                                <td id=\"T_a1a73_row25_col0\" class=\"data row25 col0\" >September</td>\n                        <td id=\"T_a1a73_row25_col1\" class=\"data row25 col1\" >Squash Court</td>\n                        <td id=\"T_a1a73_row25_col2\" class=\"data row25 col2\" >87</td>\n            </tr>\n            <tr>\n                                <td id=\"T_a1a73_row26_col0\" class=\"data row26 col0\" >September</td>\n                        <td id=\"T_a1a73_row26_col1\" class=\"data row26 col1\" >Massage Room 2</td>\n                        <td id=\"T_a1a73_row26_col2\" class=\"data row26 col2\" >14</td>\n            </tr>\n    </tbody></table>",
      "text/plain": "<pandas.io.formats.style.Styler at 0x11bb9eb80>"
     },
     "execution_count": 408,
     "metadata": {},
     "output_type": "execute_result"
    }
   ],
   "source": [
    "# Now let's find the most popular facilities amongst our members per month!\n",
    "\n",
    "query = ''' SELECT CASE WHEN strftime('%m', b.starttime) = '07' THEN 'July'\n",
    "                        WHEN strftime('%m', b.starttime) = '08' THEN 'August'\n",
    "                        ELSE 'September' END AS Month, \n",
    "                    f.name AS Facility, \n",
    "                    COUNT(b.slots) AS Monthly_Usage\n",
    "            FROM Bookings AS b\n",
    "            LEFT JOIN Facilities AS f \n",
    "            ON f.facid = b.facid\n",
    "            WHERE b.memid != 0      \n",
    "            GROUP BY f.name, month \n",
    "            ORDER BY strftime('%m', b.starttime), Monthly_Usage DESC;\n",
    "        '''\n",
    "\n",
    "\n",
    "df = pd.read_sql_query(query, conn)\n",
    "df.style.hide_index()"
   ]
  },
  {
   "cell_type": "markdown",
   "metadata": {},
   "source": [
    "The Pool Tabel is consistently the most popular facility. This might be due to its low cost, popularity as a game, and the ability for people to socialize while playling. "
   ]
  },
  {
   "cell_type": "code",
   "execution_count": 409,
   "metadata": {},
   "outputs": [
    {
     "data": {
      "text/html": "<style  type=\"text/css\" >\n</style><table id=\"T_f5dac_\" ><thead>    <tr>        <th class=\"col_heading level0 col0\" >bookid</th>        <th class=\"col_heading level0 col1\" >Name</th>        <th class=\"col_heading level0 col2\" >facility</th>        <th class=\"col_heading level0 col3\" >cost_of_booking</th>    </tr></thead><tbody>\n                <tr>\n                                <td id=\"T_f5dac_row0_col0\" class=\"data row0 col0\" >2946</td>\n                        <td id=\"T_f5dac_row0_col1\" class=\"data row0 col1\" >GUEST GUEST</td>\n                        <td id=\"T_f5dac_row0_col2\" class=\"data row0 col2\" >Massage Room 2</td>\n                        <td id=\"T_f5dac_row0_col3\" class=\"data row0 col3\" >320.000000</td>\n            </tr>\n            <tr>\n                                <td id=\"T_f5dac_row1_col0\" class=\"data row1 col0\" >2937</td>\n                        <td id=\"T_f5dac_row1_col1\" class=\"data row1 col1\" >GUEST GUEST</td>\n                        <td id=\"T_f5dac_row1_col2\" class=\"data row1 col2\" >Massage Room 1</td>\n                        <td id=\"T_f5dac_row1_col3\" class=\"data row1 col3\" >160.000000</td>\n            </tr>\n            <tr>\n                                <td id=\"T_f5dac_row2_col0\" class=\"data row2 col0\" >2940</td>\n                        <td id=\"T_f5dac_row2_col1\" class=\"data row2 col1\" >GUEST GUEST</td>\n                        <td id=\"T_f5dac_row2_col2\" class=\"data row2 col2\" >Massage Room 1</td>\n                        <td id=\"T_f5dac_row2_col3\" class=\"data row2 col3\" >160.000000</td>\n            </tr>\n            <tr>\n                                <td id=\"T_f5dac_row3_col0\" class=\"data row3 col0\" >2942</td>\n                        <td id=\"T_f5dac_row3_col1\" class=\"data row3 col1\" >GUEST GUEST</td>\n                        <td id=\"T_f5dac_row3_col2\" class=\"data row3 col2\" >Massage Room 1</td>\n                        <td id=\"T_f5dac_row3_col3\" class=\"data row3 col3\" >160.000000</td>\n            </tr>\n            <tr>\n                                <td id=\"T_f5dac_row4_col0\" class=\"data row4 col0\" >2926</td>\n                        <td id=\"T_f5dac_row4_col1\" class=\"data row4 col1\" >GUEST GUEST</td>\n                        <td id=\"T_f5dac_row4_col2\" class=\"data row4 col2\" >Tennis Court 2</td>\n                        <td id=\"T_f5dac_row4_col3\" class=\"data row4 col3\" >150.000000</td>\n            </tr>\n            <tr>\n                                <td id=\"T_f5dac_row5_col0\" class=\"data row5 col0\" >2920</td>\n                        <td id=\"T_f5dac_row5_col1\" class=\"data row5 col1\" >GUEST GUEST</td>\n                        <td id=\"T_f5dac_row5_col2\" class=\"data row5 col2\" >Tennis Court 1</td>\n                        <td id=\"T_f5dac_row5_col3\" class=\"data row5 col3\" >75.000000</td>\n            </tr>\n            <tr>\n                                <td id=\"T_f5dac_row6_col0\" class=\"data row6 col0\" >2922</td>\n                        <td id=\"T_f5dac_row6_col1\" class=\"data row6 col1\" >GUEST GUEST</td>\n                        <td id=\"T_f5dac_row6_col2\" class=\"data row6 col2\" >Tennis Court 1</td>\n                        <td id=\"T_f5dac_row6_col3\" class=\"data row6 col3\" >75.000000</td>\n            </tr>\n            <tr>\n                                <td id=\"T_f5dac_row7_col0\" class=\"data row7 col0\" >2925</td>\n                        <td id=\"T_f5dac_row7_col1\" class=\"data row7 col1\" >GUEST GUEST</td>\n                        <td id=\"T_f5dac_row7_col2\" class=\"data row7 col2\" >Tennis Court 2</td>\n                        <td id=\"T_f5dac_row7_col3\" class=\"data row7 col3\" >75.000000</td>\n            </tr>\n            <tr>\n                                <td id=\"T_f5dac_row8_col0\" class=\"data row8 col0\" >2948</td>\n                        <td id=\"T_f5dac_row8_col1\" class=\"data row8 col1\" >GUEST GUEST</td>\n                        <td id=\"T_f5dac_row8_col2\" class=\"data row8 col2\" >Squash Court</td>\n                        <td id=\"T_f5dac_row8_col3\" class=\"data row8 col3\" >70.000000</td>\n            </tr>\n            <tr>\n                                <td id=\"T_f5dac_row9_col0\" class=\"data row9 col0\" >2941</td>\n                        <td id=\"T_f5dac_row9_col1\" class=\"data row9 col1\" >Jemima Farrell</td>\n                        <td id=\"T_f5dac_row9_col2\" class=\"data row9 col2\" >Massage Room 1</td>\n                        <td id=\"T_f5dac_row9_col3\" class=\"data row9 col3\" >39.600000</td>\n            </tr>\n            <tr>\n                                <td id=\"T_f5dac_row10_col0\" class=\"data row10 col0\" >2949</td>\n                        <td id=\"T_f5dac_row10_col1\" class=\"data row10 col1\" >GUEST GUEST</td>\n                        <td id=\"T_f5dac_row10_col2\" class=\"data row10 col2\" >Squash Court</td>\n                        <td id=\"T_f5dac_row10_col3\" class=\"data row10 col3\" >35.000000</td>\n            </tr>\n            <tr>\n                                <td id=\"T_f5dac_row11_col0\" class=\"data row11 col0\" >2951</td>\n                        <td id=\"T_f5dac_row11_col1\" class=\"data row11 col1\" >GUEST GUEST</td>\n                        <td id=\"T_f5dac_row11_col2\" class=\"data row11 col2\" >Squash Court</td>\n                        <td id=\"T_f5dac_row11_col3\" class=\"data row11 col3\" >35.000000</td>\n            </tr>\n    </tbody></table>",
      "text/plain": "<pandas.io.formats.style.Styler at 0x11bb9eaf0>"
     },
     "execution_count": 409,
     "metadata": {},
     "output_type": "execute_result"
    }
   ],
   "source": [
    "# Let's view all bookings for September 14 where the booking cost was over $30\n",
    "\n",
    "query = ''' SELECT b.bookid,\n",
    "                   firstname || ' ' || surname AS Name,\n",
    "                   f.name AS facility,\n",
    "            CASE WHEN b.memid = 0 THEN f.guestcost * b.slots\n",
    "                 ELSE f.membercost * b.slots END AS cost_of_booking\n",
    "            FROM bookings AS b \n",
    "            JOIN facilities AS f ON b.facid = f.facid\n",
    "            JOIN members AS m ON b.memid = m.memid\n",
    "            WHERE b.starttime LIKE '2012-09-14%' AND cost_of_booking > 30\n",
    "            ORDER BY cost_of_booking DESC;\n",
    "        '''\n",
    "\n",
    "\n",
    "df = pd.read_sql_query(query, conn)\n",
    "df.style.hide_index()\n"
   ]
  },
  {
   "cell_type": "markdown",
   "metadata": {},
   "source": [
    "On any given day, our guests pay more for services. This is simply because the pricing is significantly higher for non-members. "
   ]
  }
 ],
 "metadata": {
  "kernelspec": {
   "display_name": "Python 3.8.8 64-bit ('base': conda)",
   "name": "python388jvsc74a57bd0dca0ade3e726a953b501b15e8e990130d2b7799f14cfd9f4271676035ebe5511"
  },
  "language_info": {
   "codemirror_mode": {
    "name": "ipython",
    "version": 3
   },
   "file_extension": ".py",
   "mimetype": "text/x-python",
   "name": "python",
   "nbconvert_exporter": "python",
   "pygments_lexer": "ipython3",
   "version": "3.8.8"
  },
  "orig_nbformat": 3
 },
 "nbformat": 4,
 "nbformat_minor": 4
}